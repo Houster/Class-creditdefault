{
 "cells": [
  {
   "cell_type": "code",
   "execution_count": 1,
   "metadata": {},
   "outputs": [],
   "source": [
    "import pandas as pd\n",
    "import numpy as np\n",
    "import featuretools as ft\n",
    "import matplotlib.pyplot as plt\n",
    "import seaborn as sns\n",
    "import time\n",
    "import random\n",
    "pd.options.display.max_columns=1000\n",
    "pd.options.display.max_rows=10"
   ]
  },
  {
   "cell_type": "code",
   "execution_count": 2,
   "metadata": {},
   "outputs": [],
   "source": [
    "app_train = pd.read_csv('C://Users/matth/home-credit-default-risk/application_train.csv').sort_values('SK_ID_CURR').reset_index(drop = True).sample(n=70000,random_state=42)\n",
    "app_test = pd.read_csv('C://Users/matth/home-credit-default-risk/application_test.csv').sort_values('SK_ID_CURR').reset_index(drop = True)"
   ]
  },
  {
   "cell_type": "code",
   "execution_count": 3,
   "metadata": {},
   "outputs": [
    {
     "data": {
      "text/plain": [
       "0    64364\n",
       "1     5636\n",
       "Name: TARGET, dtype: int64"
      ]
     },
     "execution_count": 3,
     "metadata": {},
     "output_type": "execute_result"
    }
   ],
   "source": [
    "app_train[\"TARGET\"].value_counts()"
   ]
  },
  {
   "cell_type": "code",
   "execution_count": 4,
   "metadata": {},
   "outputs": [],
   "source": [
    "app_train_0=app_train[app_train['TARGET']==0]\n",
    "app_train_1=app_train[app_train['TARGET']==1]\n",
    "app_train_0=app_train_0.sample(n=5000,replace=False,random_state=42)\n",
    "app_train_1=app_train_1.sample(n=5000,replace=False,random_state=42)\n",
    "app_train=app_train_1.append(app_train_0,ignore_index=True)\n",
    "app_train=app_train.sample(frac=1,random_state=42).reset_index(drop=True)"
   ]
  },
  {
   "cell_type": "code",
   "execution_count": 5,
   "metadata": {},
   "outputs": [
    {
     "data": {
      "text/plain": [
       "(5000, 5000)"
      ]
     },
     "execution_count": 5,
     "metadata": {},
     "output_type": "execute_result"
    }
   ],
   "source": [
    "app=app_train.append(app_test,ignore_index=True)\n",
    "app=app.drop(\"SK_ID_CURR\",axis=1)\n",
    "len(app[app[\"TARGET\"]==0]),len(app[app[\"TARGET\"]==1])"
   ]
  },
  {
   "cell_type": "code",
   "execution_count": 6,
   "metadata": {},
   "outputs": [
    {
     "name": "stdout",
     "output_type": "stream",
     "text": [
      "Using pd get_dummies for all categorical features will lead to 144 new features\n"
     ]
    }
   ],
   "source": [
    "categorical_features=app.select_dtypes(include=\"object\").columns\n",
    "unique_values=[len(app[x].unique()) for x in categorical_features]\n",
    "print(f'Using pd get_dummies for all categorical features will lead to {sum(unique_values)} new features')"
   ]
  },
  {
   "cell_type": "code",
   "execution_count": 7,
   "metadata": {},
   "outputs": [
    {
     "name": "stdout",
     "output_type": "stream",
     "text": [
      "Using pd get_dummies for the simplest 8 features will lead to 25 new features\n"
     ]
    }
   ],
   "source": [
    "get_dummies=pd.DataFrame(data=unique_values,index=categorical_features,columns=[\"Number of unique\"]).\\\n",
    "sort_values(by=\"Number of unique\",ascending=False)[8:]\n",
    "print(f'Using pd get_dummies for the simplest 8 features will lead to {get_dummies[\"Number of unique\"].sum()} new features')"
   ]
  },
  {
   "cell_type": "code",
   "execution_count": 8,
   "metadata": {
    "scrolled": true
   },
   "outputs": [
    {
     "data": {
      "text/html": [
       "<div>\n",
       "<style scoped>\n",
       "    .dataframe tbody tr th:only-of-type {\n",
       "        vertical-align: middle;\n",
       "    }\n",
       "\n",
       "    .dataframe tbody tr th {\n",
       "        vertical-align: top;\n",
       "    }\n",
       "\n",
       "    .dataframe thead th {\n",
       "        text-align: right;\n",
       "    }\n",
       "</style>\n",
       "<table border=\"1\" class=\"dataframe\">\n",
       "  <thead>\n",
       "    <tr style=\"text-align: right;\">\n",
       "      <th></th>\n",
       "      <th>Number of unique</th>\n",
       "    </tr>\n",
       "  </thead>\n",
       "  <tbody>\n",
       "    <tr>\n",
       "      <th>ORGANIZATION_TYPE</th>\n",
       "      <td>58</td>\n",
       "    </tr>\n",
       "    <tr>\n",
       "      <th>OCCUPATION_TYPE</th>\n",
       "      <td>19</td>\n",
       "    </tr>\n",
       "    <tr>\n",
       "      <th>NAME_TYPE_SUITE</th>\n",
       "      <td>8</td>\n",
       "    </tr>\n",
       "    <tr>\n",
       "      <th>NAME_INCOME_TYPE</th>\n",
       "      <td>8</td>\n",
       "    </tr>\n",
       "    <tr>\n",
       "      <th>WALLSMATERIAL_MODE</th>\n",
       "      <td>8</td>\n",
       "    </tr>\n",
       "    <tr>\n",
       "      <th>WEEKDAY_APPR_PROCESS_START</th>\n",
       "      <td>7</td>\n",
       "    </tr>\n",
       "    <tr>\n",
       "      <th>NAME_HOUSING_TYPE</th>\n",
       "      <td>6</td>\n",
       "    </tr>\n",
       "    <tr>\n",
       "      <th>NAME_EDUCATION_TYPE</th>\n",
       "      <td>5</td>\n",
       "    </tr>\n",
       "  </tbody>\n",
       "</table>\n",
       "</div>"
      ],
      "text/plain": [
       "                            Number of unique\n",
       "ORGANIZATION_TYPE                         58\n",
       "OCCUPATION_TYPE                           19\n",
       "NAME_TYPE_SUITE                            8\n",
       "NAME_INCOME_TYPE                           8\n",
       "WALLSMATERIAL_MODE                         8\n",
       "WEEKDAY_APPR_PROCESS_START                 7\n",
       "NAME_HOUSING_TYPE                          6\n",
       "NAME_EDUCATION_TYPE                        5"
      ]
     },
     "execution_count": 8,
     "metadata": {},
     "output_type": "execute_result"
    }
   ],
   "source": [
    "pd.DataFrame(data=unique_values,index=categorical_features,columns=[\"Number of unique\"]).\\\n",
    "sort_values(by=\"Number of unique\",ascending=False)[:8]"
   ]
  },
  {
   "cell_type": "code",
   "execution_count": 9,
   "metadata": {
    "scrolled": true
   },
   "outputs": [],
   "source": [
    "label_encoding=pd.DataFrame(data=unique_values,index=categorical_features,columns=[\"Number of unique\"]).\\\n",
    "sort_values(by=\"Number of unique\",ascending=False)[:8].index"
   ]
  },
  {
   "cell_type": "code",
   "execution_count": 10,
   "metadata": {},
   "outputs": [],
   "source": [
    "from sklearn import preprocessing\n",
    "le = preprocessing.LabelEncoder()\n",
    "\n",
    "for c in label_encoding:\n",
    "    le.fit(list(app[c].values))\n",
    "    app[c]=le.transform(list(app[c].values))"
   ]
  },
  {
   "cell_type": "code",
   "execution_count": 11,
   "metadata": {},
   "outputs": [],
   "source": [
    "app=pd.get_dummies(app,drop_first=True)"
   ]
  },
  {
   "cell_type": "code",
   "execution_count": 12,
   "metadata": {},
   "outputs": [],
   "source": [
    "correlations=app.corr()[\"TARGET\"]"
   ]
  },
  {
   "cell_type": "code",
   "execution_count": 13,
   "metadata": {},
   "outputs": [],
   "source": [
    "correlations=pd.DataFrame(correlations)\n",
    "correlations[\"TARGET abs\"]=abs(correlations[\"TARGET\"])"
   ]
  },
  {
   "cell_type": "code",
   "execution_count": 14,
   "metadata": {},
   "outputs": [],
   "source": [
    "correlations=correlations.sort_values(by=\"TARGET abs\",ascending=False)"
   ]
  },
  {
   "cell_type": "code",
   "execution_count": 15,
   "metadata": {},
   "outputs": [
    {
     "data": {
      "text/plain": [
       "Index(['EXT_SOURCE_3', 'EXT_SOURCE_1', 'EXT_SOURCE_2', 'DAYS_BIRTH',\n",
       "       'NAME_EDUCATION_TYPE', 'CODE_GENDER_M', 'REGION_RATING_CLIENT_W_CITY',\n",
       "       'REGION_RATING_CLIENT', 'FLAG_EMP_PHONE', 'DAYS_LAST_PHONE_CHANGE',\n",
       "       'DAYS_EMPLOYED', 'OWN_CAR_AGE', 'FLOORSMAX_MEDI', 'FLOORSMAX_AVG',\n",
       "       'FLOORSMAX_MODE'],\n",
       "      dtype='object')"
      ]
     },
     "execution_count": 15,
     "metadata": {},
     "output_type": "execute_result"
    }
   ],
   "source": [
    "relevant_features=correlations.index[1:16]\n",
    "relevant_features"
   ]
  },
  {
   "cell_type": "code",
   "execution_count": 16,
   "metadata": {},
   "outputs": [
    {
     "data": {
      "text/html": [
       "<div>\n",
       "<style scoped>\n",
       "    .dataframe tbody tr th:only-of-type {\n",
       "        vertical-align: middle;\n",
       "    }\n",
       "\n",
       "    .dataframe tbody tr th {\n",
       "        vertical-align: top;\n",
       "    }\n",
       "\n",
       "    .dataframe thead th {\n",
       "        text-align: right;\n",
       "    }\n",
       "</style>\n",
       "<table border=\"1\" class=\"dataframe\">\n",
       "  <thead>\n",
       "    <tr style=\"text-align: right;\">\n",
       "      <th></th>\n",
       "      <th>% of missing data</th>\n",
       "    </tr>\n",
       "  </thead>\n",
       "  <tbody>\n",
       "    <tr>\n",
       "      <th>OWN_CAR_AGE</th>\n",
       "      <td>0.665753</td>\n",
       "    </tr>\n",
       "    <tr>\n",
       "      <th>FLOORSMAX_MEDI</th>\n",
       "      <td>0.486313</td>\n",
       "    </tr>\n",
       "    <tr>\n",
       "      <th>FLOORSMAX_AVG</th>\n",
       "      <td>0.486313</td>\n",
       "    </tr>\n",
       "    <tr>\n",
       "      <th>FLOORSMAX_MODE</th>\n",
       "      <td>0.486313</td>\n",
       "    </tr>\n",
       "    <tr>\n",
       "      <th>EXT_SOURCE_1</th>\n",
       "      <td>0.448012</td>\n",
       "    </tr>\n",
       "    <tr>\n",
       "      <th>EXT_SOURCE_3</th>\n",
       "      <td>0.182555</td>\n",
       "    </tr>\n",
       "    <tr>\n",
       "      <th>EXT_SOURCE_2</th>\n",
       "      <td>0.000477</td>\n",
       "    </tr>\n",
       "  </tbody>\n",
       "</table>\n",
       "</div>"
      ],
      "text/plain": [
       "                % of missing data\n",
       "OWN_CAR_AGE              0.665753\n",
       "FLOORSMAX_MEDI           0.486313\n",
       "FLOORSMAX_AVG            0.486313\n",
       "FLOORSMAX_MODE           0.486313\n",
       "EXT_SOURCE_1             0.448012\n",
       "EXT_SOURCE_3             0.182555\n",
       "EXT_SOURCE_2             0.000477"
      ]
     },
     "execution_count": 16,
     "metadata": {},
     "output_type": "execute_result"
    }
   ],
   "source": [
    "missing_data=[app[x].isna().sum()/len(app[x]) for x in relevant_features if app[x].isna().sum()!=0]\n",
    "missing_cols=[x for x in relevant_features if app[x].isna().sum()!=0]\n",
    "missing_data=pd.DataFrame(data=missing_data,index=missing_cols,columns=[\"% of missing data\"])\n",
    "missing_data=missing_data.sort_values(by=\"% of missing data\",ascending=False)\n",
    "missing_data"
   ]
  },
  {
   "cell_type": "code",
   "execution_count": 17,
   "metadata": {},
   "outputs": [
    {
     "data": {
      "image/png": "[encoded data removed]",
      "text/plain": [
       "<Figure size 1008x576 with 7 Axes>"
      ]
     },
     "metadata": {
      "needs_background": "light"
     },
     "output_type": "display_data"
    }
   ],
   "source": [
    "plt.figure(figsize=(14,8))\n",
    "count=1\n",
    "for x in missing_cols:\n",
    "    plt.subplot(2,4,count)\n",
    "    app[x].hist()\n",
    "    plt.title(x)\n",
    "    count+=1"
   ]
  },
  {
   "cell_type": "code",
   "execution_count": 18,
   "metadata": {},
   "outputs": [],
   "source": [
    "#ext1_corr=app.corr()[\"EXT_SOURCE_1\"]"
   ]
  },
  {
   "cell_type": "code",
   "execution_count": 19,
   "metadata": {},
   "outputs": [],
   "source": [
    "#abs(pd.DataFrame(ext1_corr)).sort_values(by=\"EXT_SOURCE_1\", ascending=False)"
   ]
  },
  {
   "cell_type": "code",
   "execution_count": 20,
   "metadata": {},
   "outputs": [],
   "source": [
    "#missing_ext1_rows= app[app[\"EXT_SOURCE_1\"].isna()].index"
   ]
  },
  {
   "cell_type": "code",
   "execution_count": 21,
   "metadata": {},
   "outputs": [],
   "source": [
    "#This takes 100 years\n",
    "#for x in missing_ext1_rows:\n",
    "#    app.loc[x,\"EXT_SOURCE_1\"]=app[(app[\"DAYS_BIRTH\"]==app.loc[x,\"DAYS_BIRTH\"]) & (app[\"CODE_GENDER_M\"]==app.loc[x,\"CODE_GENDER_M\"])]\\\n",
    "#    [\"EXT_SOURCE_1\"].median()"
   ]
  },
  {
   "cell_type": "code",
   "execution_count": 22,
   "metadata": {},
   "outputs": [],
   "source": [
    "#app[\"EXT_SOURCE_1\"].fillna(app[\"EXT_SOURCE_1\"].median(),inplace=True)"
   ]
  },
  {
   "cell_type": "code",
   "execution_count": 23,
   "metadata": {},
   "outputs": [],
   "source": [
    "#ext2_corr=app.corr()[\"EXT_SOURCE_2\"]"
   ]
  },
  {
   "cell_type": "code",
   "execution_count": 24,
   "metadata": {},
   "outputs": [],
   "source": [
    "#abs(pd.DataFrame(ext2_corr)).sort_values(by=\"EXT_SOURCE_2\", ascending=False)"
   ]
  },
  {
   "cell_type": "code",
   "execution_count": 25,
   "metadata": {},
   "outputs": [],
   "source": [
    "#missing_ext2_rows= app[app[\"EXT_SOURCE_2\"].isna()].index"
   ]
  },
  {
   "cell_type": "code",
   "execution_count": 26,
   "metadata": {},
   "outputs": [],
   "source": [
    "#This takes 100 years\n",
    "#for x in missing_ext2_rows:\n",
    "#    app.loc[x,\"EXT_SOURCE_2\"]=app[(app[\"REGION_RATING_CLIENT\"]==app.loc[x,\"REGION_RATING_CLIENT\"]) & (app[\"REGION_RATING_CLIENT_W_CITY\"]==app.loc[x,\"REGION_RATING_CLIENT_W_CITY\"])]\\\n",
    "#    [\"EXT_SOURCE_2\"].median()"
   ]
  },
  {
   "cell_type": "code",
   "execution_count": 27,
   "metadata": {},
   "outputs": [],
   "source": [
    "missing_cols=[x for x in relevant_features if app[x].isna().sum()!=0]\n",
    "for x in missing_cols:\n",
    "    app[x].fillna(app[x].median(),inplace=True)"
   ]
  },
  {
   "cell_type": "code",
   "execution_count": 28,
   "metadata": {},
   "outputs": [
    {
     "data": {
      "image/png": "[encoded data removed]",
      "text/plain": [
       "<Figure size 1440x1080 with 15 Axes>"
      ]
     },
     "metadata": {
      "needs_background": "light"
     },
     "output_type": "display_data"
    }
   ],
   "source": [
    "plt.figure(figsize=(20,15))\n",
    "counter=1\n",
    "for x in relevant_features:\n",
    "    plt.subplot(3,5,counter)\n",
    "    sns.distplot(app[app[\"TARGET\"]==0][x],color=\"g\",label=\"non-default\",kde=False,norm_hist=True)\n",
    "    sns.distplot(app[app[\"TARGET\"]==1][x],color=\"r\",label=\"default\",kde=False,norm_hist=True)\n",
    "    plt.legend()\n",
    "    plt.title(x)\n",
    "    counter+=1"
   ]
  },
  {
   "cell_type": "code",
   "execution_count": 35,
   "metadata": {},
   "outputs": [
    {
     "data": {
      "text/plain": [
       "-0.37429633361112397"
      ]
     },
     "execution_count": 35,
     "metadata": {},
     "output_type": "execute_result"
    }
   ],
   "source": [
    "app[\"EXT_SOURCE_COMBINED\"]=app['EXT_SOURCE_1']+app['EXT_SOURCE_2']+app['EXT_SOURCE_3'\"\"]\n",
    "app.corr()[\"TARGET\"][\"EXT_SOURCE_COMBINED\"]"
   ]
  },
  {
   "cell_type": "code",
   "execution_count": 70,
   "metadata": {},
   "outputs": [],
   "source": [
    "#Assume everyone with outlier days employed is employed long enough\n",
    "outlier_index=app[app[\"DAYS_EMPLOYED\"]>15000].index\n",
    "app.loc[outlier_index,\"DAYS_EMPLOYED\"]=0"
   ]
  },
  {
   "cell_type": "code",
   "execution_count": 75,
   "metadata": {},
   "outputs": [],
   "source": [
    "app[\"DAYS_EMPLOYED\"]=app[\"DAYS_EMPLOYED\"]-app[\"DAYS_EMPLOYED\"].min()"
   ]
  },
  {
   "cell_type": "code",
   "execution_count": 76,
   "metadata": {},
   "outputs": [
    {
     "data": {
      "text/plain": [
       "<matplotlib.axes._subplots.AxesSubplot at 0x22a59458b48>"
      ]
     },
     "execution_count": 76,
     "metadata": {},
     "output_type": "execute_result"
    },
    {
     "data": {
      "image/png": "[encoded data removed]",
      "text/plain": [
       "<Figure size 432x288 with 1 Axes>"
      ]
     },
     "metadata": {
      "needs_background": "light"
     },
     "output_type": "display_data"
    }
   ],
   "source": [
    "app[\"DAYS_EMPLOYED\"].hist()"
   ]
  },
  {
   "cell_type": "code",
   "execution_count": 88,
   "metadata": {},
   "outputs": [],
   "source": [
    "app[\"DAYS_LAST_PHONE_CHANGE\"]=app[\"DAYS_LAST_PHONE_CHANGE\"]-app[\"DAYS_LAST_PHONE_CHANGE\"].min()"
   ]
  },
  {
   "cell_type": "code",
   "execution_count": 77,
   "metadata": {},
   "outputs": [],
   "source": [
    "correlations=app.corr()[\"TARGET\"]"
   ]
  },
  {
   "cell_type": "code",
   "execution_count": 78,
   "metadata": {},
   "outputs": [],
   "source": [
    "correlations=pd.DataFrame(correlations)\n",
    "correlations[\"TARGET abs\"]=abs(correlations[\"TARGET\"])"
   ]
  },
  {
   "cell_type": "code",
   "execution_count": 79,
   "metadata": {},
   "outputs": [],
   "source": [
    "correlations=correlations.sort_values(by=\"TARGET abs\",ascending=False)"
   ]
  },
  {
   "cell_type": "code",
   "execution_count": 81,
   "metadata": {},
   "outputs": [
    {
     "data": {
      "text/plain": [
       "Index(['EXT_SOURCE_COMBINED', 'EXT_SOURCE_2', 'EXT_SOURCE_3', 'EXT_SOURCE_1',\n",
       "       'DAYS_BIRTH', 'NAME_EDUCATION_TYPE', 'CODE_GENDER_M',\n",
       "       'REGION_RATING_CLIENT_W_CITY', 'REGION_RATING_CLIENT', 'FLAG_EMP_PHONE',\n",
       "       'DAYS_LAST_PHONE_CHANGE', 'DAYS_EMPLOYED', 'NAME_INCOME_TYPE',\n",
       "       'FLAG_DOCUMENT_3', 'DAYS_ID_PUBLISH'],\n",
       "      dtype='object')"
      ]
     },
     "execution_count": 81,
     "metadata": {},
     "output_type": "execute_result"
    }
   ],
   "source": [
    "relevant_features=correlations.index[1:16]\n",
    "relevant_features"
   ]
  },
  {
   "cell_type": "code",
   "execution_count": null,
   "metadata": {},
   "outputs": [],
   "source": []
  },
  {
   "cell_type": "code",
   "execution_count": 89,
   "metadata": {},
   "outputs": [],
   "source": [
    "ntrain=app[\"TARGET\"].notna().sum()\n",
    "y=app[\"TARGET\"][:ntrain]\n",
    "X=app[relevant_features][:ntrain]\n",
    "X_final=app[relevant_features][ntrain:]"
   ]
  },
  {
   "cell_type": "code",
   "execution_count": 90,
   "metadata": {},
   "outputs": [],
   "source": [
    "#Poly transformation not useful\n",
    "#from sklearn.preprocessing import PolynomialFeatures\n",
    "#poly = PolynomialFeatures(2)\n",
    "#poly_features=poly.fit_transform(X)\n",
    "#poly_features.shape,X.shape"
   ]
  },
  {
   "cell_type": "code",
   "execution_count": 91,
   "metadata": {},
   "outputs": [],
   "source": [
    "from sklearn.preprocessing import StandardScaler,RobustScaler\n",
    "from sklearn.model_selection import train_test_split\n",
    "\n",
    "X_train, X_test, y_train, y_test = train_test_split(X, y, test_size=0.2, random_state=42)\n",
    "scaler=StandardScaler()\n",
    "X_train=scaler.fit_transform(X_train)\n",
    "X_test=scaler.transform(X_test)"
   ]
  },
  {
   "cell_type": "code",
   "execution_count": 92,
   "metadata": {},
   "outputs": [
    {
     "data": {
      "text/plain": [
       "(<matplotlib.axes._subplots.AxesSubplot at 0x22a608534c8>,\n",
       " Text(0.5, 1.0, 'Kbest scores'))"
      ]
     },
     "execution_count": 92,
     "metadata": {},
     "output_type": "execute_result"
    },
    {
     "data": {
      "image/png": "[encoded data removed]",
      "text/plain": [
       "<Figure size 936x360 with 2 Axes>"
      ]
     },
     "metadata": {
      "needs_background": "light"
     },
     "output_type": "display_data"
    }
   ],
   "source": [
    "from sklearn.decomposition import PCA\n",
    "from sklearn.feature_selection import SelectKBest\n",
    "pca=PCA()\n",
    "pca.fit(X_train)\n",
    "plt.figure(figsize=(13,5))\n",
    "components=range(1,len(pca.explained_variance_ratio_)+1)\n",
    "plt.subplot(1,3,1)\n",
    "plt.plot(components,pca.explained_variance_ratio_.cumsum(),marker='o'),plt.title(\"PCA analysis\")\n",
    "kbest=SelectKBest(k=\"all\")\n",
    "kbest.fit(X_train,y_train)\n",
    "plt.subplot(1,3,3)\n",
    "sns.scatterplot(kbest.scores_,components),plt.title(\"Kbest scores\")\n",
    "#I will use all relevant features for now"
   ]
  },
  {
   "cell_type": "code",
   "execution_count": 93,
   "metadata": {},
   "outputs": [
    {
     "data": {
      "text/html": [
       "<div>\n",
       "<style scoped>\n",
       "    .dataframe tbody tr th:only-of-type {\n",
       "        vertical-align: middle;\n",
       "    }\n",
       "\n",
       "    .dataframe tbody tr th {\n",
       "        vertical-align: top;\n",
       "    }\n",
       "\n",
       "    .dataframe thead th {\n",
       "        text-align: right;\n",
       "    }\n",
       "</style>\n",
       "<table border=\"1\" class=\"dataframe\">\n",
       "  <thead>\n",
       "    <tr style=\"text-align: right;\">\n",
       "      <th></th>\n",
       "      <th>kbest score</th>\n",
       "      <th>pca score</th>\n",
       "    </tr>\n",
       "  </thead>\n",
       "  <tbody>\n",
       "    <tr>\n",
       "      <th>14</th>\n",
       "      <td>0.738562</td>\n",
       "      <td>0.738562</td>\n",
       "    </tr>\n",
       "    <tr>\n",
       "      <th>13</th>\n",
       "      <td>0.735669</td>\n",
       "      <td>0.735669</td>\n",
       "    </tr>\n",
       "    <tr>\n",
       "      <th>12</th>\n",
       "      <td>0.735542</td>\n",
       "      <td>0.735542</td>\n",
       "    </tr>\n",
       "    <tr>\n",
       "      <th>10</th>\n",
       "      <td>0.735522</td>\n",
       "      <td>0.735522</td>\n",
       "    </tr>\n",
       "    <tr>\n",
       "      <th>11</th>\n",
       "      <td>0.735202</td>\n",
       "      <td>0.735202</td>\n",
       "    </tr>\n",
       "    <tr>\n",
       "      <th>9</th>\n",
       "      <td>0.731069</td>\n",
       "      <td>0.731069</td>\n",
       "    </tr>\n",
       "    <tr>\n",
       "      <th>8</th>\n",
       "      <td>0.729901</td>\n",
       "      <td>0.729901</td>\n",
       "    </tr>\n",
       "    <tr>\n",
       "      <th>7</th>\n",
       "      <td>0.729295</td>\n",
       "      <td>0.729295</td>\n",
       "    </tr>\n",
       "    <tr>\n",
       "      <th>6</th>\n",
       "      <td>0.727368</td>\n",
       "      <td>0.727368</td>\n",
       "    </tr>\n",
       "  </tbody>\n",
       "</table>\n",
       "</div>"
      ],
      "text/plain": [
       "   kbest score pca score\n",
       "14    0.738562  0.738562\n",
       "13    0.735669  0.735669\n",
       "12    0.735542  0.735542\n",
       "10    0.735522  0.735522\n",
       "11    0.735202  0.735202\n",
       "9     0.731069  0.731069\n",
       "8     0.729901  0.729901\n",
       "7     0.729295  0.729295\n",
       "6     0.727368  0.727368"
      ]
     },
     "execution_count": 93,
     "metadata": {},
     "output_type": "execute_result"
    }
   ],
   "source": [
    "from sklearn.linear_model import LogisticRegression\n",
    "from sklearn.model_selection import cross_val_score\n",
    "from sklearn.metrics import roc_auc_score\n",
    "\n",
    "test_range=range(6,15)\n",
    "lr=LogisticRegression(max_iter=500)\n",
    "feature_scoring=pd.DataFrame(columns=[\"kbest score\",\"pca score\"],index=test_range)\n",
    "\n",
    "for i in test_range:\n",
    "    kbest=SelectKBest(k=i)\n",
    "    pca=PCA(n_components=i)\n",
    "    X_train_kbest=kbest.fit_transform(X_train,y_train)\n",
    "    X_train_pca=pca.fit_transform(X_train)\n",
    "    X_test_kbest=kbest.transform(X_test)\n",
    "    X_test_pca=pca.transform(X_test)\n",
    "    \n",
    "    kbest_train=lr.fit(X_train_kbest,y_train)\n",
    "    kbest_score=lr.predict_proba(X_test_kbest)[:,1]\n",
    "    feature_scoring.loc[i,'kbest score']=roc_auc_score(y_test,kbest_score)\n",
    "    \n",
    "    pca_train=lr.fit(X_train_pca,y_train)\n",
    "    pca_score=lr.predict_proba(X_test_pca)[:,1]\n",
    "    feature_scoring.loc[i,'pca score']=roc_auc_score(y_test,kbest_score)\n",
    "feature_scoring.sort_values(by=\"pca score\", ascending=False,inplace=True)\n",
    "feature_scoring"
   ]
  },
  {
   "cell_type": "code",
   "execution_count": 94,
   "metadata": {},
   "outputs": [],
   "source": [
    "best_features=feature_scoring.index[0]\n",
    "pca=PCA(n_components=best_features)\n",
    "X_train_pca=pca.fit_transform(X_train)\n",
    "X_test_pca=pca.transform(X_test)\n",
    "#X_train_pca=kbest.fit_transform(X_train,y_train)\n",
    "#X_test_pca=kbest.transform(X_test)"
   ]
  },
  {
   "cell_type": "code",
   "execution_count": 95,
   "metadata": {},
   "outputs": [],
   "source": [
    "from sklearn.svm import SVC\n",
    "from sklearn.neighbors import KNeighborsClassifier\n",
    "from sklearn.tree import DecisionTreeClassifier\n",
    "from sklearn.ensemble import RandomForestClassifier\n",
    "import lightgbm as lgb\n",
    "\n",
    "lr=LogisticRegression()\n",
    "svc=SVC(probability=True)\n",
    "knn=KNeighborsClassifier()\n",
    "dtr=DecisionTreeClassifier()\n",
    "rfc=RandomForestClassifier()\n",
    "\n",
    "models={\"Logistic regression\":lr,\"Support vector classifier\": svc,\"K neighbours classifier\":knn, \\\n",
    "       \"Decision tree classifier\": dtr, \"Random forest classifier\": rfc}"
   ]
  },
  {
   "cell_type": "code",
   "execution_count": 96,
   "metadata": {},
   "outputs": [
    {
     "name": "stdout",
     "output_type": "stream",
     "text": [
      "0.0638270378112793\n",
      "41.62834978103638\n",
      "42.594422340393066\n",
      "43.12089514732361\n",
      "51.16281318664551\n"
     ]
    },
    {
     "data": {
      "text/html": [
       "<div>\n",
       "<style scoped>\n",
       "    .dataframe tbody tr th:only-of-type {\n",
       "        vertical-align: middle;\n",
       "    }\n",
       "\n",
       "    .dataframe tbody tr th {\n",
       "        vertical-align: top;\n",
       "    }\n",
       "\n",
       "    .dataframe thead tr th {\n",
       "        text-align: left;\n",
       "    }\n",
       "</style>\n",
       "<table border=\"1\" class=\"dataframe\">\n",
       "  <thead>\n",
       "    <tr>\n",
       "      <th></th>\n",
       "      <th>training score</th>\n",
       "      <th>ROC AUC</th>\n",
       "    </tr>\n",
       "  </thead>\n",
       "  <tbody>\n",
       "    <tr>\n",
       "      <th>Logistic regression</th>\n",
       "      <td>0.6705</td>\n",
       "      <td>0.739063</td>\n",
       "    </tr>\n",
       "    <tr>\n",
       "      <th>Support vector classifier</th>\n",
       "      <td>0.665625</td>\n",
       "      <td>0.727536</td>\n",
       "    </tr>\n",
       "    <tr>\n",
       "      <th>K neighbours classifier</th>\n",
       "      <td>0.618375</td>\n",
       "      <td>0.665466</td>\n",
       "    </tr>\n",
       "    <tr>\n",
       "      <th>Decision tree classifier</th>\n",
       "      <td>0.578</td>\n",
       "      <td>0.580345</td>\n",
       "    </tr>\n",
       "    <tr>\n",
       "      <th>Random forest classifier</th>\n",
       "      <td>0.645875</td>\n",
       "      <td>0.719598</td>\n",
       "    </tr>\n",
       "  </tbody>\n",
       "</table>\n",
       "</div>"
      ],
      "text/plain": [
       "                          training score   ROC AUC\n",
       "Logistic regression               0.6705  0.739063\n",
       "Support vector classifier       0.665625  0.727536\n",
       "K neighbours classifier         0.618375  0.665466\n",
       "Decision tree classifier           0.578  0.580345\n",
       "Random forest classifier        0.645875  0.719598"
      ]
     },
     "execution_count": 96,
     "metadata": {},
     "output_type": "execute_result"
    }
   ],
   "source": [
    "#Untuned model predictions and score\n",
    "base_model_scores=pd.DataFrame(index=models.keys(),columns=[[\"training score\",\"ROC AUC\"]])\n",
    "t0=time.time()\n",
    "for key,model in models.items():\n",
    "    model.fit(X_train_pca,y_train)\n",
    "    train_score=cross_val_score(model,X_train_pca,y_train)\n",
    "    pred=model.predict_proba(X_test_pca)[:,1]\n",
    "    roc=roc_auc_score(y_test,pred)\n",
    "    base_model_scores.loc[key,\"training score\"]=train_score.mean()\n",
    "    base_model_scores.loc[key,\"ROC AUC\"]=roc\n",
    "    print(time.time()-t0)\n",
    "base_model_scores"
   ]
  },
  {
   "cell_type": "code",
   "execution_count": 97,
   "metadata": {},
   "outputs": [
    {
     "data": {
      "text/plain": [
       "0.7379177080926677"
      ]
     },
     "execution_count": 97,
     "metadata": {},
     "output_type": "execute_result"
    }
   ],
   "source": [
    "#Untuned model average predictions\n",
    "p1=lr.predict_proba(X_test_pca)[:,1]\n",
    "p2=svc.predict_proba(X_test_pca)[:,1]\n",
    "p3=knn.predict_proba(X_test_pca)[:,1]\n",
    "p4=dtr.predict_proba(X_test_pca)[:,1]\n",
    "p5=rfc.predict_proba(X_test_pca)[:,1]\n",
    "\n",
    "p_ave=(p1+p5)/2\n",
    "roc_auc_score(y_test,p_ave)"
   ]
  },
  {
   "cell_type": "code",
   "execution_count": 37,
   "metadata": {},
   "outputs": [
    {
     "name": "stderr",
     "output_type": "stream",
     "text": [
      "C:\\Users\\matth\\anaconda3\\envs\\Kaggle\\lib\\site-packages\\sklearn\\linear_model\\_logistic.py:764: ConvergenceWarning: lbfgs failed to converge (status=1):\n",
      "STOP: TOTAL NO. of ITERATIONS REACHED LIMIT.\n",
      "\n",
      "Increase the number of iterations (max_iter) or scale the data as shown in:\n",
      "    https://scikit-learn.org/stable/modules/preprocessing.html\n",
      "Please also refer to the documentation for alternative solver options:\n",
      "    https://scikit-learn.org/stable/modules/linear_model.html#logistic-regression\n",
      "  extra_warning_msg=_LOGISTIC_SOLVER_CONVERGENCE_MSG)\n",
      "C:\\Users\\matth\\anaconda3\\envs\\Kaggle\\lib\\site-packages\\sklearn\\linear_model\\_logistic.py:764: ConvergenceWarning: lbfgs failed to converge (status=1):\n",
      "STOP: TOTAL NO. of ITERATIONS REACHED LIMIT.\n",
      "\n",
      "Increase the number of iterations (max_iter) or scale the data as shown in:\n",
      "    https://scikit-learn.org/stable/modules/preprocessing.html\n",
      "Please also refer to the documentation for alternative solver options:\n",
      "    https://scikit-learn.org/stable/modules/linear_model.html#logistic-regression\n",
      "  extra_warning_msg=_LOGISTIC_SOLVER_CONVERGENCE_MSG)\n",
      "C:\\Users\\matth\\anaconda3\\envs\\Kaggle\\lib\\site-packages\\sklearn\\linear_model\\_logistic.py:764: ConvergenceWarning: lbfgs failed to converge (status=1):\n",
      "STOP: TOTAL NO. of ITERATIONS REACHED LIMIT.\n",
      "\n",
      "Increase the number of iterations (max_iter) or scale the data as shown in:\n",
      "    https://scikit-learn.org/stable/modules/preprocessing.html\n",
      "Please also refer to the documentation for alternative solver options:\n",
      "    https://scikit-learn.org/stable/modules/linear_model.html#logistic-regression\n",
      "  extra_warning_msg=_LOGISTIC_SOLVER_CONVERGENCE_MSG)\n",
      "C:\\Users\\matth\\anaconda3\\envs\\Kaggle\\lib\\site-packages\\sklearn\\linear_model\\_logistic.py:764: ConvergenceWarning: lbfgs failed to converge (status=1):\n",
      "STOP: TOTAL NO. of ITERATIONS REACHED LIMIT.\n",
      "\n",
      "Increase the number of iterations (max_iter) or scale the data as shown in:\n",
      "    https://scikit-learn.org/stable/modules/preprocessing.html\n",
      "Please also refer to the documentation for alternative solver options:\n",
      "    https://scikit-learn.org/stable/modules/linear_model.html#logistic-regression\n",
      "  extra_warning_msg=_LOGISTIC_SOLVER_CONVERGENCE_MSG)\n",
      "C:\\Users\\matth\\anaconda3\\envs\\Kaggle\\lib\\site-packages\\sklearn\\linear_model\\_logistic.py:764: ConvergenceWarning: lbfgs failed to converge (status=1):\n",
      "STOP: TOTAL NO. of ITERATIONS REACHED LIMIT.\n",
      "\n",
      "Increase the number of iterations (max_iter) or scale the data as shown in:\n",
      "    https://scikit-learn.org/stable/modules/preprocessing.html\n",
      "Please also refer to the documentation for alternative solver options:\n",
      "    https://scikit-learn.org/stable/modules/linear_model.html#logistic-regression\n",
      "  extra_warning_msg=_LOGISTIC_SOLVER_CONVERGENCE_MSG)\n",
      "C:\\Users\\matth\\anaconda3\\envs\\Kaggle\\lib\\site-packages\\sklearn\\linear_model\\_logistic.py:764: ConvergenceWarning: lbfgs failed to converge (status=1):\n",
      "STOP: TOTAL NO. of ITERATIONS REACHED LIMIT.\n",
      "\n",
      "Increase the number of iterations (max_iter) or scale the data as shown in:\n",
      "    https://scikit-learn.org/stable/modules/preprocessing.html\n",
      "Please also refer to the documentation for alternative solver options:\n",
      "    https://scikit-learn.org/stable/modules/linear_model.html#logistic-regression\n",
      "  extra_warning_msg=_LOGISTIC_SOLVER_CONVERGENCE_MSG)\n",
      "C:\\Users\\matth\\anaconda3\\envs\\Kaggle\\lib\\site-packages\\sklearn\\linear_model\\_logistic.py:764: ConvergenceWarning: lbfgs failed to converge (status=1):\n",
      "STOP: TOTAL NO. of ITERATIONS REACHED LIMIT.\n",
      "\n",
      "Increase the number of iterations (max_iter) or scale the data as shown in:\n",
      "    https://scikit-learn.org/stable/modules/preprocessing.html\n",
      "Please also refer to the documentation for alternative solver options:\n",
      "    https://scikit-learn.org/stable/modules/linear_model.html#logistic-regression\n",
      "  extra_warning_msg=_LOGISTIC_SOLVER_CONVERGENCE_MSG)\n",
      "C:\\Users\\matth\\anaconda3\\envs\\Kaggle\\lib\\site-packages\\sklearn\\linear_model\\_logistic.py:764: ConvergenceWarning: lbfgs failed to converge (status=1):\n",
      "STOP: TOTAL NO. of ITERATIONS REACHED LIMIT.\n",
      "\n",
      "Increase the number of iterations (max_iter) or scale the data as shown in:\n",
      "    https://scikit-learn.org/stable/modules/preprocessing.html\n",
      "Please also refer to the documentation for alternative solver options:\n",
      "    https://scikit-learn.org/stable/modules/linear_model.html#logistic-regression\n",
      "  extra_warning_msg=_LOGISTIC_SOLVER_CONVERGENCE_MSG)\n",
      "C:\\Users\\matth\\anaconda3\\envs\\Kaggle\\lib\\site-packages\\sklearn\\linear_model\\_logistic.py:764: ConvergenceWarning: lbfgs failed to converge (status=1):\n",
      "STOP: TOTAL NO. of ITERATIONS REACHED LIMIT.\n",
      "\n",
      "Increase the number of iterations (max_iter) or scale the data as shown in:\n",
      "    https://scikit-learn.org/stable/modules/preprocessing.html\n",
      "Please also refer to the documentation for alternative solver options:\n",
      "    https://scikit-learn.org/stable/modules/linear_model.html#logistic-regression\n",
      "  extra_warning_msg=_LOGISTIC_SOLVER_CONVERGENCE_MSG)\n",
      "C:\\Users\\matth\\anaconda3\\envs\\Kaggle\\lib\\site-packages\\sklearn\\linear_model\\_logistic.py:764: ConvergenceWarning: lbfgs failed to converge (status=1):\n",
      "STOP: TOTAL NO. of ITERATIONS REACHED LIMIT.\n",
      "\n",
      "Increase the number of iterations (max_iter) or scale the data as shown in:\n",
      "    https://scikit-learn.org/stable/modules/preprocessing.html\n",
      "Please also refer to the documentation for alternative solver options:\n",
      "    https://scikit-learn.org/stable/modules/linear_model.html#logistic-regression\n",
      "  extra_warning_msg=_LOGISTIC_SOLVER_CONVERGENCE_MSG)\n",
      "C:\\Users\\matth\\anaconda3\\envs\\Kaggle\\lib\\site-packages\\sklearn\\linear_model\\_logistic.py:764: ConvergenceWarning: lbfgs failed to converge (status=1):\n",
      "STOP: TOTAL NO. of ITERATIONS REACHED LIMIT.\n",
      "\n",
      "Increase the number of iterations (max_iter) or scale the data as shown in:\n",
      "    https://scikit-learn.org/stable/modules/preprocessing.html\n",
      "Please also refer to the documentation for alternative solver options:\n",
      "    https://scikit-learn.org/stable/modules/linear_model.html#logistic-regression\n",
      "  extra_warning_msg=_LOGISTIC_SOLVER_CONVERGENCE_MSG)\n",
      "C:\\Users\\matth\\anaconda3\\envs\\Kaggle\\lib\\site-packages\\sklearn\\linear_model\\_logistic.py:764: ConvergenceWarning: lbfgs failed to converge (status=1):\n",
      "STOP: TOTAL NO. of ITERATIONS REACHED LIMIT.\n",
      "\n",
      "Increase the number of iterations (max_iter) or scale the data as shown in:\n",
      "    https://scikit-learn.org/stable/modules/preprocessing.html\n",
      "Please also refer to the documentation for alternative solver options:\n",
      "    https://scikit-learn.org/stable/modules/linear_model.html#logistic-regression\n",
      "  extra_warning_msg=_LOGISTIC_SOLVER_CONVERGENCE_MSG)\n",
      "C:\\Users\\matth\\anaconda3\\envs\\Kaggle\\lib\\site-packages\\sklearn\\linear_model\\_logistic.py:764: ConvergenceWarning: lbfgs failed to converge (status=1):\n",
      "STOP: TOTAL NO. of ITERATIONS REACHED LIMIT.\n",
      "\n",
      "Increase the number of iterations (max_iter) or scale the data as shown in:\n",
      "    https://scikit-learn.org/stable/modules/preprocessing.html\n",
      "Please also refer to the documentation for alternative solver options:\n",
      "    https://scikit-learn.org/stable/modules/linear_model.html#logistic-regression\n",
      "  extra_warning_msg=_LOGISTIC_SOLVER_CONVERGENCE_MSG)\n",
      "C:\\Users\\matth\\anaconda3\\envs\\Kaggle\\lib\\site-packages\\sklearn\\linear_model\\_logistic.py:764: ConvergenceWarning: lbfgs failed to converge (status=1):\n",
      "STOP: TOTAL NO. of ITERATIONS REACHED LIMIT.\n",
      "\n",
      "Increase the number of iterations (max_iter) or scale the data as shown in:\n",
      "    https://scikit-learn.org/stable/modules/preprocessing.html\n",
      "Please also refer to the documentation for alternative solver options:\n",
      "    https://scikit-learn.org/stable/modules/linear_model.html#logistic-regression\n",
      "  extra_warning_msg=_LOGISTIC_SOLVER_CONVERGENCE_MSG)\n",
      "C:\\Users\\matth\\anaconda3\\envs\\Kaggle\\lib\\site-packages\\sklearn\\linear_model\\_logistic.py:764: ConvergenceWarning: lbfgs failed to converge (status=1):\n",
      "STOP: TOTAL NO. of ITERATIONS REACHED LIMIT.\n",
      "\n",
      "Increase the number of iterations (max_iter) or scale the data as shown in:\n",
      "    https://scikit-learn.org/stable/modules/preprocessing.html\n",
      "Please also refer to the documentation for alternative solver options:\n",
      "    https://scikit-learn.org/stable/modules/linear_model.html#logistic-regression\n",
      "  extra_warning_msg=_LOGISTIC_SOLVER_CONVERGENCE_MSG)\n",
      "C:\\Users\\matth\\anaconda3\\envs\\Kaggle\\lib\\site-packages\\sklearn\\linear_model\\_logistic.py:764: ConvergenceWarning: lbfgs failed to converge (status=1):\n",
      "STOP: TOTAL NO. of ITERATIONS REACHED LIMIT.\n",
      "\n",
      "Increase the number of iterations (max_iter) or scale the data as shown in:\n",
      "    https://scikit-learn.org/stable/modules/preprocessing.html\n",
      "Please also refer to the documentation for alternative solver options:\n",
      "    https://scikit-learn.org/stable/modules/linear_model.html#logistic-regression\n",
      "  extra_warning_msg=_LOGISTIC_SOLVER_CONVERGENCE_MSG)\n",
      "C:\\Users\\matth\\anaconda3\\envs\\Kaggle\\lib\\site-packages\\sklearn\\linear_model\\_logistic.py:764: ConvergenceWarning: lbfgs failed to converge (status=1):\n",
      "STOP: TOTAL NO. of ITERATIONS REACHED LIMIT.\n",
      "\n",
      "Increase the number of iterations (max_iter) or scale the data as shown in:\n",
      "    https://scikit-learn.org/stable/modules/preprocessing.html\n",
      "Please also refer to the documentation for alternative solver options:\n",
      "    https://scikit-learn.org/stable/modules/linear_model.html#logistic-regression\n",
      "  extra_warning_msg=_LOGISTIC_SOLVER_CONVERGENCE_MSG)\n"
     ]
    },
    {
     "name": "stderr",
     "output_type": "stream",
     "text": [
      "C:\\Users\\matth\\anaconda3\\envs\\Kaggle\\lib\\site-packages\\sklearn\\linear_model\\_logistic.py:764: ConvergenceWarning: lbfgs failed to converge (status=1):\n",
      "STOP: TOTAL NO. of ITERATIONS REACHED LIMIT.\n",
      "\n",
      "Increase the number of iterations (max_iter) or scale the data as shown in:\n",
      "    https://scikit-learn.org/stable/modules/preprocessing.html\n",
      "Please also refer to the documentation for alternative solver options:\n",
      "    https://scikit-learn.org/stable/modules/linear_model.html#logistic-regression\n",
      "  extra_warning_msg=_LOGISTIC_SOLVER_CONVERGENCE_MSG)\n",
      "C:\\Users\\matth\\anaconda3\\envs\\Kaggle\\lib\\site-packages\\sklearn\\linear_model\\_logistic.py:764: ConvergenceWarning: lbfgs failed to converge (status=1):\n",
      "STOP: TOTAL NO. of ITERATIONS REACHED LIMIT.\n",
      "\n",
      "Increase the number of iterations (max_iter) or scale the data as shown in:\n",
      "    https://scikit-learn.org/stable/modules/preprocessing.html\n",
      "Please also refer to the documentation for alternative solver options:\n",
      "    https://scikit-learn.org/stable/modules/linear_model.html#logistic-regression\n",
      "  extra_warning_msg=_LOGISTIC_SOLVER_CONVERGENCE_MSG)\n",
      "C:\\Users\\matth\\anaconda3\\envs\\Kaggle\\lib\\site-packages\\sklearn\\linear_model\\_logistic.py:764: ConvergenceWarning: lbfgs failed to converge (status=1):\n",
      "STOP: TOTAL NO. of ITERATIONS REACHED LIMIT.\n",
      "\n",
      "Increase the number of iterations (max_iter) or scale the data as shown in:\n",
      "    https://scikit-learn.org/stable/modules/preprocessing.html\n",
      "Please also refer to the documentation for alternative solver options:\n",
      "    https://scikit-learn.org/stable/modules/linear_model.html#logistic-regression\n",
      "  extra_warning_msg=_LOGISTIC_SOLVER_CONVERGENCE_MSG)\n",
      "C:\\Users\\matth\\anaconda3\\envs\\Kaggle\\lib\\site-packages\\sklearn\\linear_model\\_logistic.py:764: ConvergenceWarning: lbfgs failed to converge (status=1):\n",
      "STOP: TOTAL NO. of ITERATIONS REACHED LIMIT.\n",
      "\n",
      "Increase the number of iterations (max_iter) or scale the data as shown in:\n",
      "    https://scikit-learn.org/stable/modules/preprocessing.html\n",
      "Please also refer to the documentation for alternative solver options:\n",
      "    https://scikit-learn.org/stable/modules/linear_model.html#logistic-regression\n",
      "  extra_warning_msg=_LOGISTIC_SOLVER_CONVERGENCE_MSG)\n",
      "C:\\Users\\matth\\anaconda3\\envs\\Kaggle\\lib\\site-packages\\sklearn\\linear_model\\_logistic.py:764: ConvergenceWarning: lbfgs failed to converge (status=1):\n",
      "STOP: TOTAL NO. of ITERATIONS REACHED LIMIT.\n",
      "\n",
      "Increase the number of iterations (max_iter) or scale the data as shown in:\n",
      "    https://scikit-learn.org/stable/modules/preprocessing.html\n",
      "Please also refer to the documentation for alternative solver options:\n",
      "    https://scikit-learn.org/stable/modules/linear_model.html#logistic-regression\n",
      "  extra_warning_msg=_LOGISTIC_SOLVER_CONVERGENCE_MSG)\n",
      "C:\\Users\\matth\\anaconda3\\envs\\Kaggle\\lib\\site-packages\\sklearn\\linear_model\\_logistic.py:764: ConvergenceWarning: lbfgs failed to converge (status=1):\n",
      "STOP: TOTAL NO. of ITERATIONS REACHED LIMIT.\n",
      "\n",
      "Increase the number of iterations (max_iter) or scale the data as shown in:\n",
      "    https://scikit-learn.org/stable/modules/preprocessing.html\n",
      "Please also refer to the documentation for alternative solver options:\n",
      "    https://scikit-learn.org/stable/modules/linear_model.html#logistic-regression\n",
      "  extra_warning_msg=_LOGISTIC_SOLVER_CONVERGENCE_MSG)\n",
      "C:\\Users\\matth\\anaconda3\\envs\\Kaggle\\lib\\site-packages\\sklearn\\linear_model\\_logistic.py:764: ConvergenceWarning: lbfgs failed to converge (status=1):\n",
      "STOP: TOTAL NO. of ITERATIONS REACHED LIMIT.\n",
      "\n",
      "Increase the number of iterations (max_iter) or scale the data as shown in:\n",
      "    https://scikit-learn.org/stable/modules/preprocessing.html\n",
      "Please also refer to the documentation for alternative solver options:\n",
      "    https://scikit-learn.org/stable/modules/linear_model.html#logistic-regression\n",
      "  extra_warning_msg=_LOGISTIC_SOLVER_CONVERGENCE_MSG)\n",
      "C:\\Users\\matth\\anaconda3\\envs\\Kaggle\\lib\\site-packages\\sklearn\\linear_model\\_logistic.py:764: ConvergenceWarning: lbfgs failed to converge (status=1):\n",
      "STOP: TOTAL NO. of ITERATIONS REACHED LIMIT.\n",
      "\n",
      "Increase the number of iterations (max_iter) or scale the data as shown in:\n",
      "    https://scikit-learn.org/stable/modules/preprocessing.html\n",
      "Please also refer to the documentation for alternative solver options:\n",
      "    https://scikit-learn.org/stable/modules/linear_model.html#logistic-regression\n",
      "  extra_warning_msg=_LOGISTIC_SOLVER_CONVERGENCE_MSG)\n"
     ]
    },
    {
     "data": {
      "image/png": "[encoded data removed]",
      "text/plain": [
       "<Figure size 1080x360 with 5 Axes>"
      ]
     },
     "metadata": {
      "needs_background": "light"
     },
     "output_type": "display_data"
    }
   ],
   "source": [
    "#from sklearn.model_selection import learning_curve\n",
    "#x=1\n",
    "#plt.figure(figsize=(15,5))\n",
    "#for key, model in models.items():\n",
    "#    train_sizes, train_scores, test_scores=learning_curve(model,X_train_pca,y_train)\n",
    "#    plt.subplot(1,5,x)\n",
    "#    plt.plot(train_sizes,train_scores.mean(axis=1),color=\"b\",label=\"train score\")\n",
    "#    plt.plot(train_sizes,test_scores.mean(axis=1),color=\"r\",label=\"test score\")\n",
    "#    plt.xlabel(\"Train sizes\"),plt.ylabel(\"Score\"),plt.grid(True),plt.legend(loc=\"best\"),plt.ylim((0,1)),plt.title(key)\n",
    "\n",
    "#    x=x+1"
   ]
  },
  {
   "cell_type": "code",
   "execution_count": 98,
   "metadata": {},
   "outputs": [],
   "source": [
    "def objective(model,hyperparameters,iteration):\n",
    "    cv_results=cross_val_score(model,X_train_pca,y_train).mean()\n",
    "    model.fit(X_train_pca,y_train)\n",
    "    pred=model.predict_proba(X_test_pca)[:,1]\n",
    "    roc=roc_auc_score(y_test,pred)\n",
    "    \n",
    "    return (cv_results,roc,hyperparameters)"
   ]
  },
  {
   "cell_type": "code",
   "execution_count": 99,
   "metadata": {},
   "outputs": [],
   "source": [
    "lr_param_grid={\"penalty\": ['l1','l2','elasticnet','none'],\n",
    "           \"C\": [0.001,0.01,0.1,1,10,100],\n",
    "           \"dual\": [True,False],\n",
    "            \"fit_intercept\": [True,False],\n",
    "            \"solver\": ['lbfgs', 'sag', 'saga'],\n",
    "            \"max_iter\": [int(x) for x in np.linspace(start=100,stop=300,num=10)]}\n",
    "\n",
    "rfc_param_grid={\"n_estimators\":[int(x) for x in np.linspace(start = 200, stop = 2000, num = 10)],\n",
    "                \"criterion\": ['gini','entropy'],\n",
    "                \"max_features\":[\"auto\", \"sqrt\", \"log2\"],\n",
    "                \"bootstrap\": [True,False]}\n",
    "\n",
    "svc_param_grid={\"C\":[0.01,0.1,1,10,100],\n",
    "                \"kernel\":['linear', 'poly', 'rbf', 'sigmoid'],\n",
    "                \"gamma\":['scale','auto'],\n",
    "                \"shrinking\":[True,False],\n",
    "                \"probability\":[True]}\n"
   ]
  },
  {
   "cell_type": "code",
   "execution_count": 100,
   "metadata": {},
   "outputs": [
    {
     "name": "stdout",
     "output_type": "stream",
     "text": [
      "Fitting 3 folds for each of 10 candidates, totalling 30 fits\n",
      "[CV] solver=sag, penalty=none, max_iter=188, fit_intercept=True, dual=True, C=1 \n",
      "[CV]  solver=sag, penalty=none, max_iter=188, fit_intercept=True, dual=True, C=1, total=   0.0s\n",
      "[CV] solver=sag, penalty=none, max_iter=188, fit_intercept=True, dual=True, C=1 \n",
      "[CV]  solver=sag, penalty=none, max_iter=188, fit_intercept=True, dual=True, C=1, total=   0.0s\n",
      "[CV] solver=sag, penalty=none, max_iter=188, fit_intercept=True, dual=True, C=1 \n",
      "[CV]  solver=sag, penalty=none, max_iter=188, fit_intercept=True, dual=True, C=1, total=   0.0s\n",
      "[CV] solver=saga, penalty=l2, max_iter=122, fit_intercept=False, dual=False, C=0.1 \n",
      "[CV]  solver=saga, penalty=l2, max_iter=122, fit_intercept=False, dual=False, C=0.1, total=   0.0s\n",
      "[CV] solver=saga, penalty=l2, max_iter=122, fit_intercept=False, dual=False, C=0.1 \n",
      "[CV]  solver=saga, penalty=l2, max_iter=122, fit_intercept=False, dual=False, C=0.1, total=   0.0s\n",
      "[CV] solver=saga, penalty=l2, max_iter=122, fit_intercept=False, dual=False, C=0.1 \n",
      "[CV]  solver=saga, penalty=l2, max_iter=122, fit_intercept=False, dual=False, C=0.1, total=   0.0s\n",
      "[CV] solver=sag, penalty=l1, max_iter=188, fit_intercept=True, dual=True, C=100 \n",
      "[CV]  solver=sag, penalty=l1, max_iter=188, fit_intercept=True, dual=True, C=100, total=   0.0s\n",
      "[CV] solver=sag, penalty=l1, max_iter=188, fit_intercept=True, dual=True, C=100 \n",
      "[CV]  solver=sag, penalty=l1, max_iter=188, fit_intercept=True, dual=True, C=100, total=   0.0s\n",
      "[CV] solver=sag, penalty=l1, max_iter=188, fit_intercept=True, dual=True, C=100 \n",
      "[CV]  solver=sag, penalty=l1, max_iter=188, fit_intercept=True, dual=True, C=100, total=   0.0s\n",
      "[CV] solver=sag, penalty=elasticnet, max_iter=233, fit_intercept=True, dual=True, C=10 \n",
      "[CV]  solver=sag, penalty=elasticnet, max_iter=233, fit_intercept=True, dual=True, C=10, total=   0.0s\n",
      "[CV] solver=sag, penalty=elasticnet, max_iter=233, fit_intercept=True, dual=True, C=10 \n",
      "[CV]  solver=sag, penalty=elasticnet, max_iter=233, fit_intercept=True, dual=True, C=10, total=   0.0s\n",
      "[CV] solver=sag, penalty=elasticnet, max_iter=233, fit_intercept=True, dual=True, C=10 \n",
      "[CV]  solver=sag, penalty=elasticnet, max_iter=233, fit_intercept=True, dual=True, C=10, total=   0.0s\n",
      "[CV] solver=sag, penalty=l2, max_iter=188, fit_intercept=True, dual=False, C=0.01 \n",
      "[CV]  solver=sag, penalty=l2, max_iter=188, fit_intercept=True, dual=False, C=0.01, total=   0.0s\n",
      "[CV] solver=sag, penalty=l2, max_iter=188, fit_intercept=True, dual=False, C=0.01 \n",
      "[CV]  solver=sag, penalty=l2, max_iter=188, fit_intercept=True, dual=False, C=0.01, total=   0.0s\n",
      "[CV] solver=sag, penalty=l2, max_iter=188, fit_intercept=True, dual=False, C=0.01 \n",
      "[CV]  solver=sag, penalty=l2, max_iter=188, fit_intercept=True, dual=False, C=0.01, total=   0.0s\n",
      "[CV] solver=sag, penalty=l1, max_iter=122, fit_intercept=True, dual=True, C=100 \n",
      "[CV]  solver=sag, penalty=l1, max_iter=122, fit_intercept=True, dual=True, C=100, total=   0.0s\n",
      "[CV] solver=sag, penalty=l1, max_iter=122, fit_intercept=True, dual=True, C=100 \n",
      "[CV]  solver=sag, penalty=l1, max_iter=122, fit_intercept=True, dual=True, C=100, total=   0.0s\n",
      "[CV] solver=sag, penalty=l1, max_iter=122, fit_intercept=True, dual=True, C=100 \n",
      "[CV]  solver=sag, penalty=l1, max_iter=122, fit_intercept=True, dual=True, C=100, total=   0.0s\n",
      "[CV] solver=saga, penalty=none, max_iter=166, fit_intercept=True, dual=False, C=0.1 \n",
      "[CV]  solver=saga, penalty=none, max_iter=166, fit_intercept=True, dual=False, C=0.1, total=   0.0s\n",
      "[CV] solver=saga, penalty=none, max_iter=166, fit_intercept=True, dual=False, C=0.1 \n",
      "[CV]  solver=saga, penalty=none, max_iter=166, fit_intercept=True, dual=False, C=0.1, total=   0.0s\n",
      "[CV] solver=saga, penalty=none, max_iter=166, fit_intercept=True, dual=False, C=0.1 \n",
      "[CV]  solver=saga, penalty=none, max_iter=166, fit_intercept=True, dual=False, C=0.1, total=   0.0s\n",
      "[CV] solver=saga, penalty=l1, max_iter=211, fit_intercept=False, dual=False, C=0.01 \n"
     ]
    },
    {
     "name": "stderr",
     "output_type": "stream",
     "text": [
      "[Parallel(n_jobs=1)]: Using backend SequentialBackend with 1 concurrent workers.\n",
      "C:\\Users\\matth\\anaconda3\\envs\\Kaggle\\lib\\site-packages\\sklearn\\model_selection\\_validation.py:552: FitFailedWarning: Estimator fit failed. The score on this train-test partition for these parameters will be set to nan. Details: \n",
      "Traceback (most recent call last):\n",
      "  File \"C:\\Users\\matth\\anaconda3\\envs\\Kaggle\\lib\\site-packages\\sklearn\\model_selection\\_validation.py\", line 531, in _fit_and_score\n",
      "    estimator.fit(X_train, y_train, **fit_params)\n",
      "  File \"C:\\Users\\matth\\anaconda3\\envs\\Kaggle\\lib\\site-packages\\sklearn\\linear_model\\_logistic.py\", line 1304, in fit\n",
      "    solver = _check_solver(self.solver, self.penalty, self.dual)\n",
      "  File \"C:\\Users\\matth\\anaconda3\\envs\\Kaggle\\lib\\site-packages\\sklearn\\linear_model\\_logistic.py\", line 446, in _check_solver\n",
      "    \"dual=False, got dual=%s\" % (solver, dual))\n",
      "ValueError: Solver sag supports only dual=False, got dual=True\n",
      "\n",
      "  FitFailedWarning)\n",
      "[Parallel(n_jobs=1)]: Done   1 out of   1 | elapsed:    0.0s remaining:    0.0s\n",
      "C:\\Users\\matth\\anaconda3\\envs\\Kaggle\\lib\\site-packages\\sklearn\\model_selection\\_validation.py:552: FitFailedWarning: Estimator fit failed. The score on this train-test partition for these parameters will be set to nan. Details: \n",
      "Traceback (most recent call last):\n",
      "  File \"C:\\Users\\matth\\anaconda3\\envs\\Kaggle\\lib\\site-packages\\sklearn\\model_selection\\_validation.py\", line 531, in _fit_and_score\n",
      "    estimator.fit(X_train, y_train, **fit_params)\n",
      "  File \"C:\\Users\\matth\\anaconda3\\envs\\Kaggle\\lib\\site-packages\\sklearn\\linear_model\\_logistic.py\", line 1304, in fit\n",
      "    solver = _check_solver(self.solver, self.penalty, self.dual)\n",
      "  File \"C:\\Users\\matth\\anaconda3\\envs\\Kaggle\\lib\\site-packages\\sklearn\\linear_model\\_logistic.py\", line 443, in _check_solver\n",
      "    \"got %s penalty.\" % (solver, penalty))\n",
      "ValueError: Solver sag supports only 'l2' or 'none' penalties, got l1 penalty.\n",
      "\n",
      "  FitFailedWarning)\n",
      "C:\\Users\\matth\\anaconda3\\envs\\Kaggle\\lib\\site-packages\\sklearn\\model_selection\\_validation.py:552: FitFailedWarning: Estimator fit failed. The score on this train-test partition for these parameters will be set to nan. Details: \n",
      "Traceback (most recent call last):\n",
      "  File \"C:\\Users\\matth\\anaconda3\\envs\\Kaggle\\lib\\site-packages\\sklearn\\model_selection\\_validation.py\", line 531, in _fit_and_score\n",
      "    estimator.fit(X_train, y_train, **fit_params)\n",
      "  File \"C:\\Users\\matth\\anaconda3\\envs\\Kaggle\\lib\\site-packages\\sklearn\\linear_model\\_logistic.py\", line 1304, in fit\n",
      "    solver = _check_solver(self.solver, self.penalty, self.dual)\n",
      "  File \"C:\\Users\\matth\\anaconda3\\envs\\Kaggle\\lib\\site-packages\\sklearn\\linear_model\\_logistic.py\", line 443, in _check_solver\n",
      "    \"got %s penalty.\" % (solver, penalty))\n",
      "ValueError: Solver sag supports only 'l2' or 'none' penalties, got elasticnet penalty.\n",
      "\n",
      "  FitFailedWarning)\n",
      "C:\\Users\\matth\\anaconda3\\envs\\Kaggle\\lib\\site-packages\\sklearn\\model_selection\\_validation.py:552: FitFailedWarning: Estimator fit failed. The score on this train-test partition for these parameters will be set to nan. Details: \n",
      "Traceback (most recent call last):\n",
      "  File \"C:\\Users\\matth\\anaconda3\\envs\\Kaggle\\lib\\site-packages\\sklearn\\model_selection\\_validation.py\", line 531, in _fit_and_score\n",
      "    estimator.fit(X_train, y_train, **fit_params)\n",
      "  File \"C:\\Users\\matth\\anaconda3\\envs\\Kaggle\\lib\\site-packages\\sklearn\\linear_model\\_logistic.py\", line 1304, in fit\n",
      "    solver = _check_solver(self.solver, self.penalty, self.dual)\n",
      "  File \"C:\\Users\\matth\\anaconda3\\envs\\Kaggle\\lib\\site-packages\\sklearn\\linear_model\\_logistic.py\", line 443, in _check_solver\n",
      "    \"got %s penalty.\" % (solver, penalty))\n",
      "ValueError: Solver sag supports only 'l2' or 'none' penalties, got l1 penalty.\n",
      "\n",
      "  FitFailedWarning)\n",
      "C:\\Users\\matth\\anaconda3\\envs\\Kaggle\\lib\\site-packages\\sklearn\\linear_model\\_logistic.py:1321: UserWarning: Setting penalty='none' will ignore the C and l1_ratio parameters\n",
      "  \"Setting penalty='none' will ignore the C and l1_ratio \"\n",
      "C:\\Users\\matth\\anaconda3\\envs\\Kaggle\\lib\\site-packages\\sklearn\\linear_model\\_logistic.py:1321: UserWarning: Setting penalty='none' will ignore the C and l1_ratio parameters\n",
      "  \"Setting penalty='none' will ignore the C and l1_ratio \"\n",
      "C:\\Users\\matth\\anaconda3\\envs\\Kaggle\\lib\\site-packages\\sklearn\\linear_model\\_logistic.py:1321: UserWarning: Setting penalty='none' will ignore the C and l1_ratio parameters\n",
      "  \"Setting penalty='none' will ignore the C and l1_ratio \"\n"
     ]
    },
    {
     "name": "stdout",
     "output_type": "stream",
     "text": [
      "[CV]  solver=saga, penalty=l1, max_iter=211, fit_intercept=False, dual=False, C=0.01, total=   0.0s\n",
      "[CV] solver=saga, penalty=l1, max_iter=211, fit_intercept=False, dual=False, C=0.01 \n",
      "[CV]  solver=saga, penalty=l1, max_iter=211, fit_intercept=False, dual=False, C=0.01, total=   0.0s\n",
      "[CV] solver=saga, penalty=l1, max_iter=211, fit_intercept=False, dual=False, C=0.01 \n",
      "[CV]  solver=saga, penalty=l1, max_iter=211, fit_intercept=False, dual=False, C=0.01, total=   0.0s\n",
      "[CV] solver=saga, penalty=elasticnet, max_iter=255, fit_intercept=True, dual=True, C=10 \n",
      "[CV]  solver=saga, penalty=elasticnet, max_iter=255, fit_intercept=True, dual=True, C=10, total=   0.0s\n",
      "[CV] solver=saga, penalty=elasticnet, max_iter=255, fit_intercept=True, dual=True, C=10 \n",
      "[CV]  solver=saga, penalty=elasticnet, max_iter=255, fit_intercept=True, dual=True, C=10, total=   0.0s\n",
      "[CV] solver=saga, penalty=elasticnet, max_iter=255, fit_intercept=True, dual=True, C=10 \n",
      "[CV]  solver=saga, penalty=elasticnet, max_iter=255, fit_intercept=True, dual=True, C=10, total=   0.0s\n",
      "[CV] solver=sag, penalty=l1, max_iter=211, fit_intercept=True, dual=True, C=100 \n",
      "[CV]  solver=sag, penalty=l1, max_iter=211, fit_intercept=True, dual=True, C=100, total=   0.0s\n",
      "[CV] solver=sag, penalty=l1, max_iter=211, fit_intercept=True, dual=True, C=100 \n",
      "[CV]  solver=sag, penalty=l1, max_iter=211, fit_intercept=True, dual=True, C=100, total=   0.0s\n",
      "[CV] solver=sag, penalty=l1, max_iter=211, fit_intercept=True, dual=True, C=100 \n",
      "[CV]  solver=sag, penalty=l1, max_iter=211, fit_intercept=True, dual=True, C=100, total=   0.0s\n"
     ]
    },
    {
     "name": "stderr",
     "output_type": "stream",
     "text": [
      "C:\\Users\\matth\\anaconda3\\envs\\Kaggle\\lib\\site-packages\\sklearn\\model_selection\\_validation.py:552: FitFailedWarning: Estimator fit failed. The score on this train-test partition for these parameters will be set to nan. Details: \n",
      "Traceback (most recent call last):\n",
      "  File \"C:\\Users\\matth\\anaconda3\\envs\\Kaggle\\lib\\site-packages\\sklearn\\model_selection\\_validation.py\", line 531, in _fit_and_score\n",
      "    estimator.fit(X_train, y_train, **fit_params)\n",
      "  File \"C:\\Users\\matth\\anaconda3\\envs\\Kaggle\\lib\\site-packages\\sklearn\\linear_model\\_logistic.py\", line 1304, in fit\n",
      "    solver = _check_solver(self.solver, self.penalty, self.dual)\n",
      "  File \"C:\\Users\\matth\\anaconda3\\envs\\Kaggle\\lib\\site-packages\\sklearn\\linear_model\\_logistic.py\", line 446, in _check_solver\n",
      "    \"dual=False, got dual=%s\" % (solver, dual))\n",
      "ValueError: Solver saga supports only dual=False, got dual=True\n",
      "\n",
      "  FitFailedWarning)\n",
      "C:\\Users\\matth\\anaconda3\\envs\\Kaggle\\lib\\site-packages\\sklearn\\model_selection\\_validation.py:552: FitFailedWarning: Estimator fit failed. The score on this train-test partition for these parameters will be set to nan. Details: \n",
      "Traceback (most recent call last):\n",
      "  File \"C:\\Users\\matth\\anaconda3\\envs\\Kaggle\\lib\\site-packages\\sklearn\\model_selection\\_validation.py\", line 531, in _fit_and_score\n",
      "    estimator.fit(X_train, y_train, **fit_params)\n",
      "  File \"C:\\Users\\matth\\anaconda3\\envs\\Kaggle\\lib\\site-packages\\sklearn\\linear_model\\_logistic.py\", line 1304, in fit\n",
      "    solver = _check_solver(self.solver, self.penalty, self.dual)\n",
      "  File \"C:\\Users\\matth\\anaconda3\\envs\\Kaggle\\lib\\site-packages\\sklearn\\linear_model\\_logistic.py\", line 443, in _check_solver\n",
      "    \"got %s penalty.\" % (solver, penalty))\n",
      "ValueError: Solver sag supports only 'l2' or 'none' penalties, got l1 penalty.\n",
      "\n",
      "  FitFailedWarning)\n",
      "[Parallel(n_jobs=1)]: Done  30 out of  30 | elapsed:    0.2s finished\n"
     ]
    },
    {
     "data": {
      "text/plain": [
       "({'solver': 'saga',\n",
       "  'penalty': 'l2',\n",
       "  'max_iter': 122,\n",
       "  'fit_intercept': False,\n",
       "  'dual': False,\n",
       "  'C': 0.1},\n",
       " 0.6717493959166582,\n",
       " LogisticRegression(C=0.1, fit_intercept=False, max_iter=122, solver='saga'))"
      ]
     },
     "execution_count": 100,
     "metadata": {},
     "output_type": "execute_result"
    }
   ],
   "source": [
    "#This displaces the weird random_grid_search function\n",
    "from sklearn.model_selection import RandomizedSearchCV\n",
    "lr_random=RandomizedSearchCV(estimator=lr,param_distributions=lr_param_grid,n_iter=10,cv=3,verbose=2)\n",
    "lr_random.fit(X_train_pca,y_train)\n",
    "lr_random.best_params_,lr_random.best_score_,lr_random.best_estimator_"
   ]
  },
  {
   "cell_type": "code",
   "execution_count": 101,
   "metadata": {},
   "outputs": [
    {
     "name": "stdout",
     "output_type": "stream",
     "text": [
      "Fitting 3 folds for each of 10 candidates, totalling 30 fits\n",
      "[CV] shrinking=False, probability=True, kernel=poly, gamma=auto, C=0.1 \n"
     ]
    },
    {
     "name": "stderr",
     "output_type": "stream",
     "text": [
      "[Parallel(n_jobs=1)]: Using backend SequentialBackend with 1 concurrent workers.\n"
     ]
    },
    {
     "name": "stdout",
     "output_type": "stream",
     "text": [
      "[CV]  shrinking=False, probability=True, kernel=poly, gamma=auto, C=0.1, total=   2.7s\n",
      "[CV] shrinking=False, probability=True, kernel=poly, gamma=auto, C=0.1 \n"
     ]
    },
    {
     "name": "stderr",
     "output_type": "stream",
     "text": [
      "[Parallel(n_jobs=1)]: Done   1 out of   1 | elapsed:    2.6s remaining:    0.0s\n"
     ]
    },
    {
     "name": "stdout",
     "output_type": "stream",
     "text": [
      "[CV]  shrinking=False, probability=True, kernel=poly, gamma=auto, C=0.1, total=   2.7s\n",
      "[CV] shrinking=False, probability=True, kernel=poly, gamma=auto, C=0.1 \n",
      "[CV]  shrinking=False, probability=True, kernel=poly, gamma=auto, C=0.1, total=   2.7s\n",
      "[CV] shrinking=False, probability=True, kernel=linear, gamma=auto, C=0.01 \n",
      "[CV]  shrinking=False, probability=True, kernel=linear, gamma=auto, C=0.01, total=   2.0s\n",
      "[CV] shrinking=False, probability=True, kernel=linear, gamma=auto, C=0.01 \n",
      "[CV]  shrinking=False, probability=True, kernel=linear, gamma=auto, C=0.01, total=   2.1s\n",
      "[CV] shrinking=False, probability=True, kernel=linear, gamma=auto, C=0.01 \n",
      "[CV]  shrinking=False, probability=True, kernel=linear, gamma=auto, C=0.01, total=   2.1s\n",
      "[CV] shrinking=True, probability=True, kernel=poly, gamma=auto, C=10 .\n",
      "[CV]  shrinking=True, probability=True, kernel=poly, gamma=auto, C=10, total=  12.7s\n",
      "[CV] shrinking=True, probability=True, kernel=poly, gamma=auto, C=10 .\n",
      "[CV]  shrinking=True, probability=True, kernel=poly, gamma=auto, C=10, total=  13.0s\n",
      "[CV] shrinking=True, probability=True, kernel=poly, gamma=auto, C=10 .\n",
      "[CV]  shrinking=True, probability=True, kernel=poly, gamma=auto, C=10, total=  13.0s\n",
      "[CV] shrinking=True, probability=True, kernel=rbf, gamma=auto, C=0.1 .\n",
      "[CV]  shrinking=True, probability=True, kernel=rbf, gamma=auto, C=0.1, total=   4.2s\n",
      "[CV] shrinking=True, probability=True, kernel=rbf, gamma=auto, C=0.1 .\n",
      "[CV]  shrinking=True, probability=True, kernel=rbf, gamma=auto, C=0.1, total=   4.2s\n",
      "[CV] shrinking=True, probability=True, kernel=rbf, gamma=auto, C=0.1 .\n",
      "[CV]  shrinking=True, probability=True, kernel=rbf, gamma=auto, C=0.1, total=   4.0s\n",
      "[CV] shrinking=True, probability=True, kernel=sigmoid, gamma=auto, C=0.01 \n",
      "[CV]  shrinking=True, probability=True, kernel=sigmoid, gamma=auto, C=0.01, total=   4.7s\n",
      "[CV] shrinking=True, probability=True, kernel=sigmoid, gamma=auto, C=0.01 \n",
      "[CV]  shrinking=True, probability=True, kernel=sigmoid, gamma=auto, C=0.01, total=   4.7s\n",
      "[CV] shrinking=True, probability=True, kernel=sigmoid, gamma=auto, C=0.01 \n",
      "[CV]  shrinking=True, probability=True, kernel=sigmoid, gamma=auto, C=0.01, total=   4.8s\n",
      "[CV] shrinking=True, probability=True, kernel=rbf, gamma=scale, C=1 ..\n",
      "[CV]  shrinking=True, probability=True, kernel=rbf, gamma=scale, C=1, total=   4.2s\n",
      "[CV] shrinking=True, probability=True, kernel=rbf, gamma=scale, C=1 ..\n",
      "[CV]  shrinking=True, probability=True, kernel=rbf, gamma=scale, C=1, total=   4.3s\n",
      "[CV] shrinking=True, probability=True, kernel=rbf, gamma=scale, C=1 ..\n",
      "[CV]  shrinking=True, probability=True, kernel=rbf, gamma=scale, C=1, total=   4.2s\n",
      "[CV] shrinking=True, probability=True, kernel=sigmoid, gamma=scale, C=0.01 \n",
      "[CV]  shrinking=True, probability=True, kernel=sigmoid, gamma=scale, C=0.01, total=   4.7s\n",
      "[CV] shrinking=True, probability=True, kernel=sigmoid, gamma=scale, C=0.01 \n",
      "[CV]  shrinking=True, probability=True, kernel=sigmoid, gamma=scale, C=0.01, total=   4.7s\n",
      "[CV] shrinking=True, probability=True, kernel=sigmoid, gamma=scale, C=0.01 \n",
      "[CV]  shrinking=True, probability=True, kernel=sigmoid, gamma=scale, C=0.01, total=   4.7s\n",
      "[CV] shrinking=True, probability=True, kernel=sigmoid, gamma=auto, C=1 \n",
      "[CV]  shrinking=True, probability=True, kernel=sigmoid, gamma=auto, C=1, total=   2.8s\n",
      "[CV] shrinking=True, probability=True, kernel=sigmoid, gamma=auto, C=1 \n",
      "[CV]  shrinking=True, probability=True, kernel=sigmoid, gamma=auto, C=1, total=   3.1s\n",
      "[CV] shrinking=True, probability=True, kernel=sigmoid, gamma=auto, C=1 \n",
      "[CV]  shrinking=True, probability=True, kernel=sigmoid, gamma=auto, C=1, total=   3.3s\n",
      "[CV] shrinking=False, probability=True, kernel=poly, gamma=auto, C=1 .\n",
      "[CV]  shrinking=False, probability=True, kernel=poly, gamma=auto, C=1, total=   4.8s\n",
      "[CV] shrinking=False, probability=True, kernel=poly, gamma=auto, C=1 .\n",
      "[CV]  shrinking=False, probability=True, kernel=poly, gamma=auto, C=1, total=   4.6s\n",
      "[CV] shrinking=False, probability=True, kernel=poly, gamma=auto, C=1 .\n",
      "[CV]  shrinking=False, probability=True, kernel=poly, gamma=auto, C=1, total=   5.0s\n",
      "[CV] shrinking=True, probability=True, kernel=linear, gamma=scale, C=100 \n",
      "[CV]  shrinking=True, probability=True, kernel=linear, gamma=scale, C=100, total= 1.7min\n",
      "[CV] shrinking=True, probability=True, kernel=linear, gamma=scale, C=100 \n",
      "[CV]  shrinking=True, probability=True, kernel=linear, gamma=scale, C=100, total= 1.7min\n",
      "[CV] shrinking=True, probability=True, kernel=linear, gamma=scale, C=100 \n",
      "[CV]  shrinking=True, probability=True, kernel=linear, gamma=scale, C=100, total= 1.7min\n"
     ]
    },
    {
     "name": "stderr",
     "output_type": "stream",
     "text": [
      "[Parallel(n_jobs=1)]: Done  30 out of  30 | elapsed:  7.2min finished\n"
     ]
    },
    {
     "data": {
      "text/plain": [
       "({'shrinking': False,\n",
       "  'probability': True,\n",
       "  'kernel': 'linear',\n",
       "  'gamma': 'auto',\n",
       "  'C': 0.01},\n",
       " 0.6698748177858113,\n",
       " SVC(C=0.01, gamma='auto', kernel='linear', probability=True, shrinking=False))"
      ]
     },
     "execution_count": 101,
     "metadata": {},
     "output_type": "execute_result"
    }
   ],
   "source": [
    "svc_random=RandomizedSearchCV(estimator=svc,param_distributions=svc_param_grid,n_iter=10,cv=3,verbose=2)\n",
    "svc_random.fit(X_train_pca,y_train)\n",
    "svc_random.best_params_,svc_random.best_score_,svc_random.best_estimator_"
   ]
  },
  {
   "cell_type": "code",
   "execution_count": 102,
   "metadata": {},
   "outputs": [
    {
     "name": "stdout",
     "output_type": "stream",
     "text": [
      "Fitting 3 folds for each of 10 candidates, totalling 30 fits\n",
      "[CV] n_estimators=600, max_features=auto, criterion=entropy, bootstrap=False \n"
     ]
    },
    {
     "name": "stderr",
     "output_type": "stream",
     "text": [
      "[Parallel(n_jobs=1)]: Using backend SequentialBackend with 1 concurrent workers.\n"
     ]
    },
    {
     "name": "stdout",
     "output_type": "stream",
     "text": [
      "[CV]  n_estimators=600, max_features=auto, criterion=entropy, bootstrap=False, total=  17.5s\n",
      "[CV] n_estimators=600, max_features=auto, criterion=entropy, bootstrap=False \n"
     ]
    },
    {
     "name": "stderr",
     "output_type": "stream",
     "text": [
      "[Parallel(n_jobs=1)]: Done   1 out of   1 | elapsed:   17.4s remaining:    0.0s\n"
     ]
    },
    {
     "name": "stdout",
     "output_type": "stream",
     "text": [
      "[CV]  n_estimators=600, max_features=auto, criterion=entropy, bootstrap=False, total=  19.0s\n",
      "[CV] n_estimators=600, max_features=auto, criterion=entropy, bootstrap=False \n",
      "[CV]  n_estimators=600, max_features=auto, criterion=entropy, bootstrap=False, total=  17.6s\n",
      "[CV] n_estimators=400, max_features=sqrt, criterion=gini, bootstrap=True \n",
      "[CV]  n_estimators=400, max_features=sqrt, criterion=gini, bootstrap=True, total=   4.1s\n",
      "[CV] n_estimators=400, max_features=sqrt, criterion=gini, bootstrap=True \n",
      "[CV]  n_estimators=400, max_features=sqrt, criterion=gini, bootstrap=True, total=   4.3s\n",
      "[CV] n_estimators=400, max_features=sqrt, criterion=gini, bootstrap=True \n",
      "[CV]  n_estimators=400, max_features=sqrt, criterion=gini, bootstrap=True, total=   4.6s\n",
      "[CV] n_estimators=400, max_features=sqrt, criterion=entropy, bootstrap=True \n",
      "[CV]  n_estimators=400, max_features=sqrt, criterion=entropy, bootstrap=True, total=   7.3s\n",
      "[CV] n_estimators=400, max_features=sqrt, criterion=entropy, bootstrap=True \n",
      "[CV]  n_estimators=400, max_features=sqrt, criterion=entropy, bootstrap=True, total=   7.2s\n",
      "[CV] n_estimators=400, max_features=sqrt, criterion=entropy, bootstrap=True \n",
      "[CV]  n_estimators=400, max_features=sqrt, criterion=entropy, bootstrap=True, total=   7.0s\n",
      "[CV] n_estimators=1800, max_features=log2, criterion=gini, bootstrap=True \n",
      "[CV]  n_estimators=1800, max_features=log2, criterion=gini, bootstrap=True, total=  19.2s\n",
      "[CV] n_estimators=1800, max_features=log2, criterion=gini, bootstrap=True \n",
      "[CV]  n_estimators=1800, max_features=log2, criterion=gini, bootstrap=True, total=  19.4s\n",
      "[CV] n_estimators=1800, max_features=log2, criterion=gini, bootstrap=True \n",
      "[CV]  n_estimators=1800, max_features=log2, criterion=gini, bootstrap=True, total=  18.8s\n",
      "[CV] n_estimators=400, max_features=log2, criterion=entropy, bootstrap=True \n",
      "[CV]  n_estimators=400, max_features=log2, criterion=entropy, bootstrap=True, total=   7.1s\n",
      "[CV] n_estimators=400, max_features=log2, criterion=entropy, bootstrap=True \n",
      "[CV]  n_estimators=400, max_features=log2, criterion=entropy, bootstrap=True, total=   7.1s\n",
      "[CV] n_estimators=400, max_features=log2, criterion=entropy, bootstrap=True \n",
      "[CV]  n_estimators=400, max_features=log2, criterion=entropy, bootstrap=True, total=   7.1s\n",
      "[CV] n_estimators=1200, max_features=log2, criterion=entropy, bootstrap=False \n",
      "[CV]  n_estimators=1200, max_features=log2, criterion=entropy, bootstrap=False, total=  35.0s\n",
      "[CV] n_estimators=1200, max_features=log2, criterion=entropy, bootstrap=False \n",
      "[CV]  n_estimators=1200, max_features=log2, criterion=entropy, bootstrap=False, total=  36.0s\n",
      "[CV] n_estimators=1200, max_features=log2, criterion=entropy, bootstrap=False \n",
      "[CV]  n_estimators=1200, max_features=log2, criterion=entropy, bootstrap=False, total=  34.9s\n",
      "[CV] n_estimators=800, max_features=log2, criterion=entropy, bootstrap=True \n",
      "[CV]  n_estimators=800, max_features=log2, criterion=entropy, bootstrap=True, total=  14.5s\n",
      "[CV] n_estimators=800, max_features=log2, criterion=entropy, bootstrap=True \n",
      "[CV]  n_estimators=800, max_features=log2, criterion=entropy, bootstrap=True, total=  14.7s\n",
      "[CV] n_estimators=800, max_features=log2, criterion=entropy, bootstrap=True \n",
      "[CV]  n_estimators=800, max_features=log2, criterion=entropy, bootstrap=True, total=  14.1s\n",
      "[CV] n_estimators=1400, max_features=sqrt, criterion=gini, bootstrap=True \n",
      "[CV]  n_estimators=1400, max_features=sqrt, criterion=gini, bootstrap=True, total=  14.9s\n",
      "[CV] n_estimators=1400, max_features=sqrt, criterion=gini, bootstrap=True \n",
      "[CV]  n_estimators=1400, max_features=sqrt, criterion=gini, bootstrap=True, total=  14.9s\n",
      "[CV] n_estimators=1400, max_features=sqrt, criterion=gini, bootstrap=True \n",
      "[CV]  n_estimators=1400, max_features=sqrt, criterion=gini, bootstrap=True, total=  15.7s\n",
      "[CV] n_estimators=1000, max_features=sqrt, criterion=entropy, bootstrap=False \n",
      "[CV]  n_estimators=1000, max_features=sqrt, criterion=entropy, bootstrap=False, total=  29.3s\n",
      "[CV] n_estimators=1000, max_features=sqrt, criterion=entropy, bootstrap=False \n",
      "[CV]  n_estimators=1000, max_features=sqrt, criterion=entropy, bootstrap=False, total=  31.0s\n",
      "[CV] n_estimators=1000, max_features=sqrt, criterion=entropy, bootstrap=False \n",
      "[CV]  n_estimators=1000, max_features=sqrt, criterion=entropy, bootstrap=False, total=  29.2s\n",
      "[CV] n_estimators=600, max_features=log2, criterion=entropy, bootstrap=True \n",
      "[CV]  n_estimators=600, max_features=log2, criterion=entropy, bootstrap=True, total=  10.7s\n",
      "[CV] n_estimators=600, max_features=log2, criterion=entropy, bootstrap=True \n",
      "[CV]  n_estimators=600, max_features=log2, criterion=entropy, bootstrap=True, total=  11.0s\n",
      "[CV] n_estimators=600, max_features=log2, criterion=entropy, bootstrap=True \n",
      "[CV]  n_estimators=600, max_features=log2, criterion=entropy, bootstrap=True, total=  10.6s\n"
     ]
    },
    {
     "name": "stderr",
     "output_type": "stream",
     "text": [
      "[Parallel(n_jobs=1)]: Done  30 out of  30 | elapsed:  8.1min finished\n"
     ]
    },
    {
     "data": {
      "text/plain": [
       "({'n_estimators': 400,\n",
       "  'max_features': 'sqrt',\n",
       "  'criterion': 'gini',\n",
       "  'bootstrap': True},\n",
       " 0.6566238016196962,\n",
       " RandomForestClassifier(max_features='sqrt', n_estimators=400))"
      ]
     },
     "execution_count": 102,
     "metadata": {},
     "output_type": "execute_result"
    }
   ],
   "source": [
    "rf_random=RandomizedSearchCV(estimator=rfc,param_distributions=rfc_param_grid,n_iter=10,cv=3,verbose=2)\n",
    "rf_random.fit(X_train_pca,y_train)\n",
    "rf_random.best_params_,rf_random.best_score_,rf_random.best_estimator_"
   ]
  },
  {
   "cell_type": "code",
   "execution_count": 103,
   "metadata": {},
   "outputs": [],
   "source": [
    "#Tuned model average predictions\n",
    "rfc=rf_random.best_estimator_\n",
    "rfc.fit(X_train_pca,y_train)\n",
    "lr=lr_random.best_estimator_\n",
    "lr.fit(X_train_pca,y_train)\n",
    "svc=svc_random.best_estimator_\n",
    "svc.fit(X_train_pca,y_train)\n",
    "\n",
    "p1=lr.predict_proba(X_test_pca)[:,1]\n",
    "p2=svc.predict_proba(X_test_pca)[:,1]\n",
    "#p3=knn.predict_proba(X_test_pca)[:,1]\n",
    "#p4=dtr.predict_proba(X_test_pca)[:,1]\n",
    "p5=rfc.predict_proba(X_test_pca)[:,1]\n"
   ]
  },
  {
   "cell_type": "code",
   "execution_count": 106,
   "metadata": {},
   "outputs": [
    {
     "data": {
      "text/plain": [
       "(0.7391369141384896, 0.7386478314835206, 0.7241433802312591)"
      ]
     },
     "execution_count": 106,
     "metadata": {},
     "output_type": "execute_result"
    }
   ],
   "source": [
    "roc_auc_score(y_test,p1),roc_auc_score(y_test,p2),roc_auc_score(y_test,p5)"
   ]
  },
  {
   "cell_type": "code",
   "execution_count": 105,
   "metadata": {},
   "outputs": [
    {
     "data": {
      "text/plain": [
       "0.7407231822177949"
      ]
     },
     "execution_count": 105,
     "metadata": {},
     "output_type": "execute_result"
    }
   ],
   "source": [
    "p_ave=(p1+p2+p5)/3\n",
    "roc_auc_score(y_test,p_ave)"
   ]
  },
  {
   "cell_type": "code",
   "execution_count": 108,
   "metadata": {},
   "outputs": [],
   "source": [
    "X_final_pca=pca.transform(scaler.transform(X_final))"
   ]
  },
  {
   "cell_type": "code",
   "execution_count": 109,
   "metadata": {},
   "outputs": [],
   "source": [
    "y_final=(lr.predict_proba(X_final_pca)[:,1]+rfc.predict_proba(X_final_pca)[:,1]+svc.predict_proba(X_final_pca)[:,1])/3\n",
    "final_guess=pd.DataFrame(y_final)"
   ]
  },
  {
   "cell_type": "code",
   "execution_count": 110,
   "metadata": {},
   "outputs": [],
   "source": [
    "submission=pd.DataFrame(app_test[\"SK_ID_CURR\"])"
   ]
  },
  {
   "cell_type": "code",
   "execution_count": 111,
   "metadata": {},
   "outputs": [],
   "source": [
    "submission[\"TARGET\"]=final_guess"
   ]
  },
  {
   "cell_type": "code",
   "execution_count": 112,
   "metadata": {},
   "outputs": [],
   "source": [
    "submission.to_csv(\"submission.csv\",index=False,header=True)"
   ]
  },
  {
   "cell_type": "code",
   "execution_count": null,
   "metadata": {},
   "outputs": [],
   "source": []
  },
  {
   "cell_type": "code",
   "execution_count": null,
   "metadata": {},
   "outputs": [],
   "source": []
  },
  {
   "cell_type": "code",
   "execution_count": 84,
   "metadata": {},
   "outputs": [],
   "source": [
    "import itertools\n",
    "\n",
    "def grid_search(model,param_grid):\n",
    "    t0=time.time()\n",
    "    results=pd.DataFrame(columns=[\"training score\",\"test ROC AUC\",\"Hyperparameters\"])\n",
    "    keys,values=zip(*param_grid.items())\n",
    "    i=0\n",
    "    for v in itertools.product(*values):\n",
    "        hyperparameters=dict(zip(keys,v))\n",
    "        eval_results=objective(model,hyperparameters,i)\n",
    "        results.loc[i,:]=eval_results\n",
    "        t1=time.time()-t0\n",
    "        print(t1)\n",
    "        t1=t0\n",
    "        i+=1\n",
    "        if i>5:\n",
    "            break\n",
    "    results.sort_values(\"test ROC AUC\",ascending=False,inplace=True)\n",
    "    results.reset_index(inplace=True,drop=True)\n",
    "    return results"
   ]
  },
  {
   "cell_type": "code",
   "execution_count": 85,
   "metadata": {},
   "outputs": [
    {
     "name": "stdout",
     "output_type": "stream",
     "text": [
      "0.0481867790222168\n",
      "0.11067342758178711\n",
      "0.15753722190856934\n",
      "0.22110295295715332\n",
      "0.28031373023986816\n",
      "0.3294353485107422\n"
     ]
    },
    {
     "data": {
      "text/html": [
       "<div>\n",
       "<style scoped>\n",
       "    .dataframe tbody tr th:only-of-type {\n",
       "        vertical-align: middle;\n",
       "    }\n",
       "\n",
       "    .dataframe tbody tr th {\n",
       "        vertical-align: top;\n",
       "    }\n",
       "\n",
       "    .dataframe thead th {\n",
       "        text-align: right;\n",
       "    }\n",
       "</style>\n",
       "<table border=\"1\" class=\"dataframe\">\n",
       "  <thead>\n",
       "    <tr style=\"text-align: right;\">\n",
       "      <th></th>\n",
       "      <th>training score</th>\n",
       "      <th>test ROC AUC</th>\n",
       "      <th>Hyperparameters</th>\n",
       "    </tr>\n",
       "  </thead>\n",
       "  <tbody>\n",
       "    <tr>\n",
       "      <th>0</th>\n",
       "      <td>0.91925</td>\n",
       "      <td>0.71997</td>\n",
       "      <td>{'penalty': 'l1', 'C': 0.001, 'dual': True, 'f...</td>\n",
       "    </tr>\n",
       "    <tr>\n",
       "      <th>1</th>\n",
       "      <td>0.91925</td>\n",
       "      <td>0.71997</td>\n",
       "      <td>{'penalty': 'l1', 'C': 0.001, 'dual': True, 'f...</td>\n",
       "    </tr>\n",
       "    <tr>\n",
       "      <th>2</th>\n",
       "      <td>0.91925</td>\n",
       "      <td>0.71997</td>\n",
       "      <td>{'penalty': 'l1', 'C': 0.001, 'dual': True, 'f...</td>\n",
       "    </tr>\n",
       "    <tr>\n",
       "      <th>3</th>\n",
       "      <td>0.91925</td>\n",
       "      <td>0.71997</td>\n",
       "      <td>{'penalty': 'l1', 'C': 0.001, 'dual': True, 'f...</td>\n",
       "    </tr>\n",
       "    <tr>\n",
       "      <th>4</th>\n",
       "      <td>0.91925</td>\n",
       "      <td>0.71997</td>\n",
       "      <td>{'penalty': 'l1', 'C': 0.001, 'dual': True, 'f...</td>\n",
       "    </tr>\n",
       "    <tr>\n",
       "      <th>5</th>\n",
       "      <td>0.91925</td>\n",
       "      <td>0.71997</td>\n",
       "      <td>{'penalty': 'l1', 'C': 0.001, 'dual': True, 'f...</td>\n",
       "    </tr>\n",
       "  </tbody>\n",
       "</table>\n",
       "</div>"
      ],
      "text/plain": [
       "  training score test ROC AUC  \\\n",
       "0        0.91925      0.71997   \n",
       "1        0.91925      0.71997   \n",
       "2        0.91925      0.71997   \n",
       "3        0.91925      0.71997   \n",
       "4        0.91925      0.71997   \n",
       "5        0.91925      0.71997   \n",
       "\n",
       "                                     Hyperparameters  \n",
       "0  {'penalty': 'l1', 'C': 0.001, 'dual': True, 'f...  \n",
       "1  {'penalty': 'l1', 'C': 0.001, 'dual': True, 'f...  \n",
       "2  {'penalty': 'l1', 'C': 0.001, 'dual': True, 'f...  \n",
       "3  {'penalty': 'l1', 'C': 0.001, 'dual': True, 'f...  \n",
       "4  {'penalty': 'l1', 'C': 0.001, 'dual': True, 'f...  \n",
       "5  {'penalty': 'l1', 'C': 0.001, 'dual': True, 'f...  "
      ]
     },
     "execution_count": 85,
     "metadata": {},
     "output_type": "execute_result"
    }
   ],
   "source": [
    "#Seems like adjusting logistic regression hyperparameters has minimal impact on the results\n",
    "grid_results=grid_search(lr,lr_param_grid)\n",
    "grid_results"
   ]
  },
  {
   "cell_type": "code",
   "execution_count": 43,
   "metadata": {},
   "outputs": [
    {
     "name": "stdout",
     "output_type": "stream",
     "text": [
      "8.49466586112976\n",
      "17.33802032470703\n",
      "25.912322759628296\n"
     ]
    },
    {
     "data": {
      "text/html": [
       "<div>\n",
       "<style scoped>\n",
       "    .dataframe tbody tr th:only-of-type {\n",
       "        vertical-align: middle;\n",
       "    }\n",
       "\n",
       "    .dataframe tbody tr th {\n",
       "        vertical-align: top;\n",
       "    }\n",
       "\n",
       "    .dataframe thead th {\n",
       "        text-align: right;\n",
       "    }\n",
       "</style>\n",
       "<table border=\"1\" class=\"dataframe\">\n",
       "  <thead>\n",
       "    <tr style=\"text-align: right;\">\n",
       "      <th></th>\n",
       "      <th>training score</th>\n",
       "      <th>test ROC AUC</th>\n",
       "      <th>Hyperparameters</th>\n",
       "    </tr>\n",
       "  </thead>\n",
       "  <tbody>\n",
       "    <tr>\n",
       "      <th>0</th>\n",
       "      <td>0.91725</td>\n",
       "      <td>0.659414</td>\n",
       "      <td>{'n_estimators': 200, 'criterion': 'gini', 'ma...</td>\n",
       "    </tr>\n",
       "    <tr>\n",
       "      <th>1</th>\n",
       "      <td>0.9175</td>\n",
       "      <td>0.647326</td>\n",
       "      <td>{'n_estimators': 200, 'criterion': 'gini', 'ma...</td>\n",
       "    </tr>\n",
       "    <tr>\n",
       "      <th>2</th>\n",
       "      <td>0.917625</td>\n",
       "      <td>0.640413</td>\n",
       "      <td>{'n_estimators': 200, 'criterion': 'gini', 'ma...</td>\n",
       "    </tr>\n",
       "  </tbody>\n",
       "</table>\n",
       "</div>"
      ],
      "text/plain": [
       "  training score test ROC AUC  \\\n",
       "0        0.91725     0.659414   \n",
       "1         0.9175     0.647326   \n",
       "2       0.917625     0.640413   \n",
       "\n",
       "                                     Hyperparameters  \n",
       "0  {'n_estimators': 200, 'criterion': 'gini', 'ma...  \n",
       "1  {'n_estimators': 200, 'criterion': 'gini', 'ma...  \n",
       "2  {'n_estimators': 200, 'criterion': 'gini', 'ma...  "
      ]
     },
     "execution_count": 43,
     "metadata": {},
     "output_type": "execute_result"
    }
   ],
   "source": [
    "grid_search(rfc,rfc_param_grid)"
   ]
  },
  {
   "cell_type": "code",
   "execution_count": 70,
   "metadata": {},
   "outputs": [],
   "source": [
    "import random\n",
    "def random_grid_search(model,param_grid):\n",
    "    t0=time.time()\n",
    "    results=pd.DataFrame(columns=[\"training score\",\"test ROC AUC\",\"Hyperparameters\"])\n",
    "    keys,values=zip(*param_grid.items())\n",
    "    \n",
    "    for i in range(10):\n",
    "        hyperparameters={k:random.sample(v,1)[0] for k,v in param_grid.items()}\n",
    "        eval_results=objective(model,hyperparameters,i)\n",
    "        results.loc[i,:]=eval_results\n",
    "        t1=time.time()-t0\n",
    "        print(t1)\n",
    "        t1=t0\n",
    "    results.sort_values(\"test ROC AUC\",ascending=False,inplace=True)\n",
    "    results.reset_index(inplace=True,drop=True)\n",
    "    return results"
   ]
  },
  {
   "cell_type": "code",
   "execution_count": 71,
   "metadata": {
    "scrolled": true
   },
   "outputs": [
    {
     "name": "stdout",
     "output_type": "stream",
     "text": [
      "8.581648111343384\n",
      "17.01374578475952\n",
      "25.461450576782227\n",
      "33.82527017593384\n",
      "42.29621601104736\n",
      "50.7615327835083\n",
      "59.17443585395813\n",
      "67.60281252861023\n",
      "75.99391770362854\n",
      "84.63963389396667\n"
     ]
    },
    {
     "data": {
      "text/html": [
       "<div>\n",
       "<style scoped>\n",
       "    .dataframe tbody tr th:only-of-type {\n",
       "        vertical-align: middle;\n",
       "    }\n",
       "\n",
       "    .dataframe tbody tr th {\n",
       "        vertical-align: top;\n",
       "    }\n",
       "\n",
       "    .dataframe thead th {\n",
       "        text-align: right;\n",
       "    }\n",
       "</style>\n",
       "<table border=\"1\" class=\"dataframe\">\n",
       "  <thead>\n",
       "    <tr style=\"text-align: right;\">\n",
       "      <th></th>\n",
       "      <th>training score</th>\n",
       "      <th>test ROC AUC</th>\n",
       "      <th>Hyperparameters</th>\n",
       "    </tr>\n",
       "  </thead>\n",
       "  <tbody>\n",
       "    <tr>\n",
       "      <th>0</th>\n",
       "      <td>0.918125</td>\n",
       "      <td>0.664564</td>\n",
       "      <td>{'n_estimators': 1600, 'criterion': 'gini', 'm...</td>\n",
       "    </tr>\n",
       "    <tr>\n",
       "      <th>1</th>\n",
       "      <td>0.91725</td>\n",
       "      <td>0.660007</td>\n",
       "      <td>{'n_estimators': 1800, 'criterion': 'gini', 'm...</td>\n",
       "    </tr>\n",
       "    <tr>\n",
       "      <th>2</th>\n",
       "      <td>0.917625</td>\n",
       "      <td>0.658808</td>\n",
       "      <td>{'n_estimators': 2000, 'criterion': 'entropy',...</td>\n",
       "    </tr>\n",
       "    <tr>\n",
       "      <th>3</th>\n",
       "      <td>0.917375</td>\n",
       "      <td>0.65678</td>\n",
       "      <td>{'n_estimators': 1200, 'criterion': 'gini', 'm...</td>\n",
       "    </tr>\n",
       "    <tr>\n",
       "      <th>4</th>\n",
       "      <td>0.917125</td>\n",
       "      <td>0.655923</td>\n",
       "      <td>{'n_estimators': 2000, 'criterion': 'gini', 'm...</td>\n",
       "    </tr>\n",
       "    <tr>\n",
       "      <th>5</th>\n",
       "      <td>0.917625</td>\n",
       "      <td>0.653632</td>\n",
       "      <td>{'n_estimators': 1800, 'criterion': 'entropy',...</td>\n",
       "    </tr>\n",
       "    <tr>\n",
       "      <th>6</th>\n",
       "      <td>0.917375</td>\n",
       "      <td>0.653555</td>\n",
       "      <td>{'n_estimators': 1200, 'criterion': 'gini', 'm...</td>\n",
       "    </tr>\n",
       "    <tr>\n",
       "      <th>7</th>\n",
       "      <td>0.917875</td>\n",
       "      <td>0.653046</td>\n",
       "      <td>{'n_estimators': 1400, 'criterion': 'gini', 'm...</td>\n",
       "    </tr>\n",
       "    <tr>\n",
       "      <th>8</th>\n",
       "      <td>0.916875</td>\n",
       "      <td>0.644619</td>\n",
       "      <td>{'n_estimators': 200, 'criterion': 'entropy', ...</td>\n",
       "    </tr>\n",
       "    <tr>\n",
       "      <th>9</th>\n",
       "      <td>0.91725</td>\n",
       "      <td>0.642081</td>\n",
       "      <td>{'n_estimators': 1400, 'criterion': 'entropy',...</td>\n",
       "    </tr>\n",
       "  </tbody>\n",
       "</table>\n",
       "</div>"
      ],
      "text/plain": [
       "  training score test ROC AUC  \\\n",
       "0       0.918125     0.664564   \n",
       "1        0.91725     0.660007   \n",
       "2       0.917625     0.658808   \n",
       "3       0.917375      0.65678   \n",
       "4       0.917125     0.655923   \n",
       "5       0.917625     0.653632   \n",
       "6       0.917375     0.653555   \n",
       "7       0.917875     0.653046   \n",
       "8       0.916875     0.644619   \n",
       "9        0.91725     0.642081   \n",
       "\n",
       "                                     Hyperparameters  \n",
       "0  {'n_estimators': 1600, 'criterion': 'gini', 'm...  \n",
       "1  {'n_estimators': 1800, 'criterion': 'gini', 'm...  \n",
       "2  {'n_estimators': 2000, 'criterion': 'entropy',...  \n",
       "3  {'n_estimators': 1200, 'criterion': 'gini', 'm...  \n",
       "4  {'n_estimators': 2000, 'criterion': 'gini', 'm...  \n",
       "5  {'n_estimators': 1800, 'criterion': 'entropy',...  \n",
       "6  {'n_estimators': 1200, 'criterion': 'gini', 'm...  \n",
       "7  {'n_estimators': 1400, 'criterion': 'gini', 'm...  \n",
       "8  {'n_estimators': 200, 'criterion': 'entropy', ...  \n",
       "9  {'n_estimators': 1400, 'criterion': 'entropy',...  "
      ]
     },
     "execution_count": 71,
     "metadata": {},
     "output_type": "execute_result"
    }
   ],
   "source": [
    "random_grid_search(rfc,rfc_param_grid)"
   ]
  }
 ],
 "metadata": {
  "kernelspec": {
   "display_name": "Python 3",
   "language": "python",
   "name": "python3"
  },
  "language_info": {
   "codemirror_mode": {
    "name": "ipython",
    "version": 3
   },
   "file_extension": ".py",
   "mimetype": "text/x-python",
   "name": "python",
   "nbconvert_exporter": "python",
   "pygments_lexer": "ipython3",
   "version": "3.7.7"
  }
 },
 "nbformat": 4,
 "nbformat_minor": 4
}
