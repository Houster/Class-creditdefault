{
 "cells": [
  {
   "cell_type": "code",
   "execution_count": 1,
   "metadata": {},
   "outputs": [],
   "source": [
    "import pandas as pd\n",
    "import numpy as np\n",
    "import featuretools as ft\n",
    "import matplotlib.pyplot as plt\n",
    "import seaborn as sns\n",
    "pd.options.display.max_columns=1000\n",
    "pd.options.display.max_rows=10"
   ]
  },
  {
   "cell_type": "code",
   "execution_count": 2,
   "metadata": {},
   "outputs": [],
   "source": [
    "app_train = pd.read_csv('C://Users/matth/home-credit-default-risk/application_train.csv').sort_values('SK_ID_CURR').reset_index(drop = True).sample(n=10000)\n",
    "app_test = pd.read_csv('C://Users/matth/home-credit-default-risk/application_test.csv').sort_values('SK_ID_CURR').reset_index(drop = True).sample(n=10000)"
   ]
  },
  {
   "cell_type": "code",
   "execution_count": 3,
   "metadata": {},
   "outputs": [
    {
     "data": {
      "text/plain": [
       "((10000, 122), (10000, 121))"
      ]
     },
     "execution_count": 3,
     "metadata": {},
     "output_type": "execute_result"
    }
   ],
   "source": [
    "app_train.shape,app_test.shape"
   ]
  },
  {
   "cell_type": "code",
   "execution_count": 4,
   "metadata": {},
   "outputs": [
    {
     "data": {
      "text/plain": [
       "(9203, 797)"
      ]
     },
     "execution_count": 4,
     "metadata": {},
     "output_type": "execute_result"
    }
   ],
   "source": [
    "app=app_train.append(app_test,ignore_index=True)\n",
    "app=app.drop(\"SK_ID_CURR\",axis=1)\n",
    "len(app[app[\"TARGET\"]==0]),len(app[app[\"TARGET\"]==1])"
   ]
  },
  {
   "cell_type": "code",
   "execution_count": 5,
   "metadata": {},
   "outputs": [],
   "source": [
    "categorical_features=app.select_dtypes(include=\"object\").columns\n",
    "unique_values=[len(app[x].unique()) for x in categorical_features]"
   ]
  },
  {
   "cell_type": "code",
   "execution_count": 6,
   "metadata": {
    "scrolled": true
   },
   "outputs": [],
   "source": [
    "label_encoding=pd.DataFrame(data=unique_values,index=categorical_features,columns=[\"Number of unique\"]).\\\n",
    "sort_values(by=\"Number of unique\",ascending=False)[:8].index"
   ]
  },
  {
   "cell_type": "code",
   "execution_count": 7,
   "metadata": {},
   "outputs": [],
   "source": [
    "get_dummies=pd.DataFrame(data=unique_values,index=categorical_features,columns=[\"Number of unique\"]).\\\n",
    "sort_values(by=\"Number of unique\",ascending=False)[8:].index"
   ]
  },
  {
   "cell_type": "code",
   "execution_count": 9,
   "metadata": {
    "scrolled": true
   },
   "outputs": [
    {
     "data": {
      "text/html": [
       "<div>\n",
       "<style scoped>\n",
       "    .dataframe tbody tr th:only-of-type {\n",
       "        vertical-align: middle;\n",
       "    }\n",
       "\n",
       "    .dataframe tbody tr th {\n",
       "        vertical-align: top;\n",
       "    }\n",
       "\n",
       "    .dataframe thead th {\n",
       "        text-align: right;\n",
       "    }\n",
       "</style>\n",
       "<table border=\"1\" class=\"dataframe\">\n",
       "  <thead>\n",
       "    <tr style=\"text-align: right;\">\n",
       "      <th></th>\n",
       "      <th>Number of unique</th>\n",
       "    </tr>\n",
       "  </thead>\n",
       "  <tbody>\n",
       "    <tr>\n",
       "      <th>ORGANIZATION_TYPE</th>\n",
       "      <td>58</td>\n",
       "    </tr>\n",
       "    <tr>\n",
       "      <th>OCCUPATION_TYPE</th>\n",
       "      <td>19</td>\n",
       "    </tr>\n",
       "    <tr>\n",
       "      <th>NAME_TYPE_SUITE</th>\n",
       "      <td>8</td>\n",
       "    </tr>\n",
       "    <tr>\n",
       "      <th>WALLSMATERIAL_MODE</th>\n",
       "      <td>8</td>\n",
       "    </tr>\n",
       "    <tr>\n",
       "      <th>WEEKDAY_APPR_PROCESS_START</th>\n",
       "      <td>7</td>\n",
       "    </tr>\n",
       "    <tr>\n",
       "      <th>NAME_HOUSING_TYPE</th>\n",
       "      <td>6</td>\n",
       "    </tr>\n",
       "    <tr>\n",
       "      <th>NAME_EDUCATION_TYPE</th>\n",
       "      <td>5</td>\n",
       "    </tr>\n",
       "    <tr>\n",
       "      <th>NAME_FAMILY_STATUS</th>\n",
       "      <td>5</td>\n",
       "    </tr>\n",
       "  </tbody>\n",
       "</table>\n",
       "</div>"
      ],
      "text/plain": [
       "                            Number of unique\n",
       "ORGANIZATION_TYPE                         58\n",
       "OCCUPATION_TYPE                           19\n",
       "NAME_TYPE_SUITE                            8\n",
       "WALLSMATERIAL_MODE                         8\n",
       "WEEKDAY_APPR_PROCESS_START                 7\n",
       "NAME_HOUSING_TYPE                          6\n",
       "NAME_EDUCATION_TYPE                        5\n",
       "NAME_FAMILY_STATUS                         5"
      ]
     },
     "execution_count": 9,
     "metadata": {},
     "output_type": "execute_result"
    }
   ],
   "source": [
    "pd.DataFrame(data=unique_values,index=categorical_features,columns=[\"Number of unique\"]).\\\n",
    "sort_values(by=\"Number of unique\",ascending=False)[:8]"
   ]
  },
  {
   "cell_type": "code",
   "execution_count": 10,
   "metadata": {},
   "outputs": [],
   "source": [
    "from sklearn import preprocessing\n",
    "le = preprocessing.LabelEncoder()\n",
    "\n",
    "for c in label_encoding:\n",
    "    le.fit(list(app[c].values))\n",
    "    app[c]=le.transform(list(app[c].values))"
   ]
  },
  {
   "cell_type": "code",
   "execution_count": 11,
   "metadata": {},
   "outputs": [],
   "source": [
    "app=pd.get_dummies(app,drop_first=True)"
   ]
  },
  {
   "cell_type": "code",
   "execution_count": 12,
   "metadata": {},
   "outputs": [],
   "source": [
    "correlations=app.corr()[\"TARGET\"]"
   ]
  },
  {
   "cell_type": "code",
   "execution_count": 13,
   "metadata": {},
   "outputs": [],
   "source": [
    "correlations=pd.DataFrame(correlations)\n",
    "correlations[\"TARGET abs\"]=abs(correlations[\"TARGET\"])"
   ]
  },
  {
   "cell_type": "code",
   "execution_count": 14,
   "metadata": {},
   "outputs": [],
   "source": [
    "correlations=correlations.sort_values(by=\"TARGET abs\",ascending=False)"
   ]
  },
  {
   "cell_type": "code",
   "execution_count": 15,
   "metadata": {},
   "outputs": [
    {
     "data": {
      "text/html": [
       "<div>\n",
       "<style scoped>\n",
       "    .dataframe tbody tr th:only-of-type {\n",
       "        vertical-align: middle;\n",
       "    }\n",
       "\n",
       "    .dataframe tbody tr th {\n",
       "        vertical-align: top;\n",
       "    }\n",
       "\n",
       "    .dataframe thead th {\n",
       "        text-align: right;\n",
       "    }\n",
       "</style>\n",
       "<table border=\"1\" class=\"dataframe\">\n",
       "  <thead>\n",
       "    <tr style=\"text-align: right;\">\n",
       "      <th></th>\n",
       "      <th>TARGET</th>\n",
       "      <th>TARGET abs</th>\n",
       "    </tr>\n",
       "  </thead>\n",
       "  <tbody>\n",
       "    <tr>\n",
       "      <th>EXT_SOURCE_2</th>\n",
       "      <td>-0.166583</td>\n",
       "      <td>0.166583</td>\n",
       "    </tr>\n",
       "    <tr>\n",
       "      <th>EXT_SOURCE_3</th>\n",
       "      <td>-0.164275</td>\n",
       "      <td>0.164275</td>\n",
       "    </tr>\n",
       "    <tr>\n",
       "      <th>EXT_SOURCE_1</th>\n",
       "      <td>-0.153027</td>\n",
       "      <td>0.153027</td>\n",
       "    </tr>\n",
       "    <tr>\n",
       "      <th>DAYS_BIRTH</th>\n",
       "      <td>0.070040</td>\n",
       "      <td>0.070040</td>\n",
       "    </tr>\n",
       "    <tr>\n",
       "      <th>NAME_INCOME_TYPE_Working</th>\n",
       "      <td>0.063118</td>\n",
       "      <td>0.063118</td>\n",
       "    </tr>\n",
       "    <tr>\n",
       "      <th>...</th>\n",
       "      <td>...</td>\n",
       "      <td>...</td>\n",
       "    </tr>\n",
       "    <tr>\n",
       "      <th>FLAG_DOCUMENT_3</th>\n",
       "      <td>0.056666</td>\n",
       "      <td>0.056666</td>\n",
       "    </tr>\n",
       "    <tr>\n",
       "      <th>REG_CITY_NOT_WORK_CITY</th>\n",
       "      <td>0.053099</td>\n",
       "      <td>0.053099</td>\n",
       "    </tr>\n",
       "    <tr>\n",
       "      <th>DEF_30_CNT_SOCIAL_CIRCLE</th>\n",
       "      <td>0.046661</td>\n",
       "      <td>0.046661</td>\n",
       "    </tr>\n",
       "    <tr>\n",
       "      <th>WALLSMATERIAL_MODE</th>\n",
       "      <td>0.045481</td>\n",
       "      <td>0.045481</td>\n",
       "    </tr>\n",
       "    <tr>\n",
       "      <th>REG_CITY_NOT_LIVE_CITY</th>\n",
       "      <td>0.044800</td>\n",
       "      <td>0.044800</td>\n",
       "    </tr>\n",
       "  </tbody>\n",
       "</table>\n",
       "<p>14 rows × 2 columns</p>\n",
       "</div>"
      ],
      "text/plain": [
       "                            TARGET  TARGET abs\n",
       "EXT_SOURCE_2             -0.166583    0.166583\n",
       "EXT_SOURCE_3             -0.164275    0.164275\n",
       "EXT_SOURCE_1             -0.153027    0.153027\n",
       "DAYS_BIRTH                0.070040    0.070040\n",
       "NAME_INCOME_TYPE_Working  0.063118    0.063118\n",
       "...                            ...         ...\n",
       "FLAG_DOCUMENT_3           0.056666    0.056666\n",
       "REG_CITY_NOT_WORK_CITY    0.053099    0.053099\n",
       "DEF_30_CNT_SOCIAL_CIRCLE  0.046661    0.046661\n",
       "WALLSMATERIAL_MODE        0.045481    0.045481\n",
       "REG_CITY_NOT_LIVE_CITY    0.044800    0.044800\n",
       "\n",
       "[14 rows x 2 columns]"
      ]
     },
     "execution_count": 15,
     "metadata": {},
     "output_type": "execute_result"
    }
   ],
   "source": [
    "correlations[1:15]"
   ]
  },
  {
   "cell_type": "code",
   "execution_count": 16,
   "metadata": {},
   "outputs": [],
   "source": [
    "relevant_features=correlations.index[1:15]"
   ]
  },
  {
   "cell_type": "code",
   "execution_count": 17,
   "metadata": {},
   "outputs": [
    {
     "data": {
      "text/html": [
       "<div>\n",
       "<style scoped>\n",
       "    .dataframe tbody tr th:only-of-type {\n",
       "        vertical-align: middle;\n",
       "    }\n",
       "\n",
       "    .dataframe tbody tr th {\n",
       "        vertical-align: top;\n",
       "    }\n",
       "\n",
       "    .dataframe thead th {\n",
       "        text-align: right;\n",
       "    }\n",
       "</style>\n",
       "<table border=\"1\" class=\"dataframe\">\n",
       "  <thead>\n",
       "    <tr style=\"text-align: right;\">\n",
       "      <th></th>\n",
       "      <th>% of missing data</th>\n",
       "    </tr>\n",
       "  </thead>\n",
       "  <tbody>\n",
       "    <tr>\n",
       "      <th>EXT_SOURCE_1</th>\n",
       "      <td>0.49215</td>\n",
       "    </tr>\n",
       "    <tr>\n",
       "      <th>EXT_SOURCE_3</th>\n",
       "      <td>0.18750</td>\n",
       "    </tr>\n",
       "    <tr>\n",
       "      <th>DEF_30_CNT_SOCIAL_CIRCLE</th>\n",
       "      <td>0.00250</td>\n",
       "    </tr>\n",
       "    <tr>\n",
       "      <th>EXT_SOURCE_2</th>\n",
       "      <td>0.00060</td>\n",
       "    </tr>\n",
       "  </tbody>\n",
       "</table>\n",
       "</div>"
      ],
      "text/plain": [
       "                          % of missing data\n",
       "EXT_SOURCE_1                        0.49215\n",
       "EXT_SOURCE_3                        0.18750\n",
       "DEF_30_CNT_SOCIAL_CIRCLE            0.00250\n",
       "EXT_SOURCE_2                        0.00060"
      ]
     },
     "execution_count": 17,
     "metadata": {},
     "output_type": "execute_result"
    }
   ],
   "source": [
    "missing_data=[app[x].isna().sum()/len(app[x]) for x in relevant_features if app[x].isna().sum()!=0]\n",
    "missing_cols=[x for x in relevant_features if app[x].isna().sum()!=0]\n",
    "missing_data=pd.DataFrame(data=missing_data,index=missing_cols,columns=[\"% of missing data\"])\n",
    "missing_data=missing_data.sort_values(by=\"% of missing data\",ascending=False)\n",
    "missing_data"
   ]
  },
  {
   "cell_type": "code",
   "execution_count": 18,
   "metadata": {},
   "outputs": [],
   "source": [
    "ext1_corr=app.corr()[\"EXT_SOURCE_1\"]"
   ]
  },
  {
   "cell_type": "code",
   "execution_count": 19,
   "metadata": {},
   "outputs": [
    {
     "data": {
      "text/html": [
       "<div>\n",
       "<style scoped>\n",
       "    .dataframe tbody tr th:only-of-type {\n",
       "        vertical-align: middle;\n",
       "    }\n",
       "\n",
       "    .dataframe tbody tr th {\n",
       "        vertical-align: top;\n",
       "    }\n",
       "\n",
       "    .dataframe thead th {\n",
       "        text-align: right;\n",
       "    }\n",
       "</style>\n",
       "<table border=\"1\" class=\"dataframe\">\n",
       "  <thead>\n",
       "    <tr style=\"text-align: right;\">\n",
       "      <th></th>\n",
       "      <th>EXT_SOURCE_1</th>\n",
       "    </tr>\n",
       "  </thead>\n",
       "  <tbody>\n",
       "    <tr>\n",
       "      <th>EXT_SOURCE_1</th>\n",
       "      <td>1.000000</td>\n",
       "    </tr>\n",
       "    <tr>\n",
       "      <th>DAYS_BIRTH</th>\n",
       "      <td>0.554090</td>\n",
       "    </tr>\n",
       "    <tr>\n",
       "      <th>CODE_GENDER_M</th>\n",
       "      <td>0.292501</td>\n",
       "    </tr>\n",
       "    <tr>\n",
       "      <th>FLAG_EMP_PHONE</th>\n",
       "      <td>0.267922</td>\n",
       "    </tr>\n",
       "    <tr>\n",
       "      <th>NAME_INCOME_TYPE_Pensioner</th>\n",
       "      <td>0.267922</td>\n",
       "    </tr>\n",
       "    <tr>\n",
       "      <th>...</th>\n",
       "      <td>...</td>\n",
       "    </tr>\n",
       "    <tr>\n",
       "      <th>FLAG_MOBIL</th>\n",
       "      <td>NaN</td>\n",
       "    </tr>\n",
       "    <tr>\n",
       "      <th>FLAG_DOCUMENT_4</th>\n",
       "      <td>NaN</td>\n",
       "    </tr>\n",
       "    <tr>\n",
       "      <th>FLAG_DOCUMENT_10</th>\n",
       "      <td>NaN</td>\n",
       "    </tr>\n",
       "    <tr>\n",
       "      <th>FLAG_DOCUMENT_12</th>\n",
       "      <td>NaN</td>\n",
       "    </tr>\n",
       "    <tr>\n",
       "      <th>FLAG_DOCUMENT_21</th>\n",
       "      <td>NaN</td>\n",
       "    </tr>\n",
       "  </tbody>\n",
       "</table>\n",
       "<p>126 rows × 1 columns</p>\n",
       "</div>"
      ],
      "text/plain": [
       "                            EXT_SOURCE_1\n",
       "EXT_SOURCE_1                    1.000000\n",
       "DAYS_BIRTH                      0.554090\n",
       "CODE_GENDER_M                   0.292501\n",
       "FLAG_EMP_PHONE                  0.267922\n",
       "NAME_INCOME_TYPE_Pensioner      0.267922\n",
       "...                                  ...\n",
       "FLAG_MOBIL                           NaN\n",
       "FLAG_DOCUMENT_4                      NaN\n",
       "FLAG_DOCUMENT_10                     NaN\n",
       "FLAG_DOCUMENT_12                     NaN\n",
       "FLAG_DOCUMENT_21                     NaN\n",
       "\n",
       "[126 rows x 1 columns]"
      ]
     },
     "execution_count": 19,
     "metadata": {},
     "output_type": "execute_result"
    }
   ],
   "source": [
    "abs(pd.DataFrame(ext1_corr)).sort_values(by=\"EXT_SOURCE_1\", ascending=False)"
   ]
  },
  {
   "cell_type": "code",
   "execution_count": 20,
   "metadata": {},
   "outputs": [],
   "source": [
    "missing_ext1_rows= app[app[\"EXT_SOURCE_1\"].isna()].index"
   ]
  },
  {
   "cell_type": "code",
   "execution_count": 21,
   "metadata": {},
   "outputs": [
    {
     "name": "stderr",
     "output_type": "stream",
     "text": [
      "C:\\Users\\matth\\anaconda3\\envs\\Kaggle\\lib\\site-packages\\numpy\\lib\\nanfunctions.py:1113: RuntimeWarning: Mean of empty slice\n",
      "  return np.nanmean(a, axis, out=out, keepdims=keepdims)\n"
     ]
    }
   ],
   "source": [
    "#This takes 100 years\n",
    "for x in missing_ext1_rows:\n",
    "    app.loc[x,\"EXT_SOURCE_1\"]=app[(app[\"DAYS_BIRTH\"]==app.loc[x,\"DAYS_BIRTH\"]) & (app[\"CODE_GENDER_M\"]==app.loc[x,\"CODE_GENDER_M\"])]\\\n",
    "    [\"EXT_SOURCE_1\"].median()"
   ]
  },
  {
   "cell_type": "code",
   "execution_count": 22,
   "metadata": {},
   "outputs": [],
   "source": [
    "app[\"EXT_SOURCE_1\"].fillna(app[\"EXT_SOURCE_1\"].median(),inplace=True)"
   ]
  },
  {
   "cell_type": "code",
   "execution_count": 23,
   "metadata": {},
   "outputs": [],
   "source": []
  },
  {
   "cell_type": "code",
   "execution_count": 24,
   "metadata": {},
   "outputs": [],
   "source": [
    "ext2_corr=app.corr()[\"EXT_SOURCE_2\"]"
   ]
  },
  {
   "cell_type": "code",
   "execution_count": 27,
   "metadata": {},
   "outputs": [
    {
     "data": {
      "text/html": [
       "<div>\n",
       "<style scoped>\n",
       "    .dataframe tbody tr th:only-of-type {\n",
       "        vertical-align: middle;\n",
       "    }\n",
       "\n",
       "    .dataframe tbody tr th {\n",
       "        vertical-align: top;\n",
       "    }\n",
       "\n",
       "    .dataframe thead th {\n",
       "        text-align: right;\n",
       "    }\n",
       "</style>\n",
       "<table border=\"1\" class=\"dataframe\">\n",
       "  <thead>\n",
       "    <tr style=\"text-align: right;\">\n",
       "      <th></th>\n",
       "      <th>EXT_SOURCE_2</th>\n",
       "    </tr>\n",
       "  </thead>\n",
       "  <tbody>\n",
       "    <tr>\n",
       "      <th>EXT_SOURCE_2</th>\n",
       "      <td>1.000000</td>\n",
       "    </tr>\n",
       "    <tr>\n",
       "      <th>REGION_RATING_CLIENT</th>\n",
       "      <td>0.310313</td>\n",
       "    </tr>\n",
       "    <tr>\n",
       "      <th>REGION_RATING_CLIENT_W_CITY</th>\n",
       "      <td>0.306119</td>\n",
       "    </tr>\n",
       "    <tr>\n",
       "      <th>DAYS_LAST_PHONE_CHANGE</th>\n",
       "      <td>0.213020</td>\n",
       "    </tr>\n",
       "    <tr>\n",
       "      <th>REGION_POPULATION_RELATIVE</th>\n",
       "      <td>0.209734</td>\n",
       "    </tr>\n",
       "    <tr>\n",
       "      <th>...</th>\n",
       "      <td>...</td>\n",
       "    </tr>\n",
       "    <tr>\n",
       "      <th>AMT_REQ_CREDIT_BUREAU_WEEK</th>\n",
       "      <td>0.000326</td>\n",
       "    </tr>\n",
       "    <tr>\n",
       "      <th>FLAG_MOBIL</th>\n",
       "      <td>NaN</td>\n",
       "    </tr>\n",
       "    <tr>\n",
       "      <th>FLAG_DOCUMENT_10</th>\n",
       "      <td>NaN</td>\n",
       "    </tr>\n",
       "    <tr>\n",
       "      <th>FLAG_DOCUMENT_12</th>\n",
       "      <td>NaN</td>\n",
       "    </tr>\n",
       "    <tr>\n",
       "      <th>FLAG_DOCUMENT_21</th>\n",
       "      <td>NaN</td>\n",
       "    </tr>\n",
       "  </tbody>\n",
       "</table>\n",
       "<p>126 rows × 1 columns</p>\n",
       "</div>"
      ],
      "text/plain": [
       "                             EXT_SOURCE_2\n",
       "EXT_SOURCE_2                     1.000000\n",
       "REGION_RATING_CLIENT             0.310313\n",
       "REGION_RATING_CLIENT_W_CITY      0.306119\n",
       "DAYS_LAST_PHONE_CHANGE           0.213020\n",
       "REGION_POPULATION_RELATIVE       0.209734\n",
       "...                                   ...\n",
       "AMT_REQ_CREDIT_BUREAU_WEEK       0.000326\n",
       "FLAG_MOBIL                            NaN\n",
       "FLAG_DOCUMENT_10                      NaN\n",
       "FLAG_DOCUMENT_12                      NaN\n",
       "FLAG_DOCUMENT_21                      NaN\n",
       "\n",
       "[126 rows x 1 columns]"
      ]
     },
     "execution_count": 27,
     "metadata": {},
     "output_type": "execute_result"
    }
   ],
   "source": [
    "abs(pd.DataFrame(ext2_corr)).sort_values(by=\"EXT_SOURCE_2\", ascending=False)"
   ]
  },
  {
   "cell_type": "code",
   "execution_count": 28,
   "metadata": {},
   "outputs": [],
   "source": [
    "missing_ext2_rows= app[app[\"EXT_SOURCE_2\"].isna()].index"
   ]
  },
  {
   "cell_type": "code",
   "execution_count": 29,
   "metadata": {},
   "outputs": [],
   "source": [
    "#This takes 100 years\n",
    "for x in missing_ext2_rows:\n",
    "    app.loc[x,\"EXT_SOURCE_2\"]=app[(app[\"REGION_RATING_CLIENT\"]==app.loc[x,\"REGION_RATING_CLIENT\"]) & (app[\"REGION_RATING_CLIENT_W_CITY\"]==app.loc[x,\"REGION_RATING_CLIENT_W_CITY\"])]\\\n",
    "    [\"EXT_SOURCE_2\"].median()"
   ]
  },
  {
   "cell_type": "code",
   "execution_count": 30,
   "metadata": {},
   "outputs": [],
   "source": [
    "missing_cols=[x for x in relevant_features if app[x].isna().sum()!=0]\n",
    "for x in missing_cols:\n",
    "    app[x].fillna(app[x].median(),inplace=True)"
   ]
  },
  {
   "cell_type": "code",
   "execution_count": 33,
   "metadata": {},
   "outputs": [
    {
     "data": {
      "image/png": "[encoded data removed]",
      "text/plain": [
       "<Figure size 1440x1080 with 14 Axes>"
      ]
     },
     "metadata": {
      "needs_background": "light"
     },
     "output_type": "display_data"
    }
   ],
   "source": [
    "plt.figure(figsize=(20,15))\n",
    "counter=1\n",
    "for x in relevant_features:\n",
    "    plt.subplot(3,5,counter)\n",
    "    sns.distplot(app[app[\"TARGET\"]==0][x],color=\"g\",label=\"non-default\",kde=False,norm_hist=True)\n",
    "    sns.distplot(app[app[\"TARGET\"]==1][x],color=\"r\",label=\"default\",kde=False,norm_hist=True)\n",
    "    plt.legend()\n",
    "    plt.title(x)\n",
    "    counter+=1"
   ]
  },
  {
   "cell_type": "code",
   "execution_count": 34,
   "metadata": {},
   "outputs": [],
   "source": [
    "ntrain=app[\"TARGET\"].isna().sum()\n",
    "y=app[\"TARGET\"][:ntrain]\n",
    "X=app[relevant_features][:ntrain]"
   ]
  },
  {
   "cell_type": "code",
   "execution_count": 43,
   "metadata": {},
   "outputs": [],
   "source": [
    "from sklearn.preprocessing import StandardScaler,RobustScaler\n",
    "from sklearn.model_selection import train_test_split\n",
    "\n",
    "X_train, X_test, y_train, y_test = train_test_split(X, y, test_size=0.2, random_state=42)\n",
    "scaler=StandardScaler()\n",
    "X_train=scaler.fit_transform(X_train)\n",
    "X_test=scaler.transform(X_test)"
   ]
  },
  {
   "cell_type": "code",
   "execution_count": 44,
   "metadata": {},
   "outputs": [
    {
     "data": {
      "text/plain": [
       "(<matplotlib.axes._subplots.AxesSubplot at 0x1e94564f848>,\n",
       " Text(0.5, 1.0, 'Kbest scores'))"
      ]
     },
     "execution_count": 44,
     "metadata": {},
     "output_type": "execute_result"
    },
    {
     "data": {
      "image/png": "[encoded data removed]",
      "text/plain": [
       "<Figure size 936x360 with 2 Axes>"
      ]
     },
     "metadata": {
      "needs_background": "light"
     },
     "output_type": "display_data"
    }
   ],
   "source": [
    "from sklearn.decomposition import PCA\n",
    "from sklearn.feature_selection import SelectKBest\n",
    "pca=PCA()\n",
    "pca.fit(X_train)\n",
    "plt.figure(figsize=(13,5))\n",
    "components=range(1,len(pca.explained_variance_ratio_)+1)\n",
    "plt.subplot(1,3,1)\n",
    "plt.plot(components,pca.explained_variance_ratio_.cumsum(),marker='o'),plt.title(\"PCA analysis\")\n",
    "kbest=SelectKBest(k=\"all\")\n",
    "kbest.fit(X_train,y_train)\n",
    "plt.subplot(1,3,3)\n",
    "sns.scatterplot(kbest.scores_,relevant_features),plt.title(\"Kbest scores\")\n",
    "#I will use all relevant features for now"
   ]
  },
  {
   "cell_type": "code",
   "execution_count": 49,
   "metadata": {},
   "outputs": [],
   "source": [
    "pca=PCA(n_components=10)\n",
    "X_train_pca=pca.fit_transform(X_train)\n",
    "X_test_pca=pca.transform(X_test)"
   ]
  },
  {
   "cell_type": "code",
   "execution_count": 50,
   "metadata": {},
   "outputs": [],
   "source": [
    "from sklearn.linear_model import LogisticRegression\n",
    "from sklearn.svm import SVC\n",
    "from sklearn.neighbors import KNeighborsClassifier\n",
    "from sklearn.tree import DecisionTreeClassifier\n",
    "from sklearn.ensemble import RandomForestClassifier\n",
    "from sklearn.model_selection import cross_val_score\n",
    "from sklearn.metrics import roc_auc_score\n",
    "import lightgbm as lgb\n",
    "\n",
    "lr=LogisticRegression()\n",
    "svc=SVC(probability=True)\n",
    "knn=KNeighborsClassifier()\n",
    "dtr=DecisionTreeClassifier()\n",
    "rfc=RandomForestClassifier()\n",
    "\n",
    "models={\"Logistic regression\":lr,\"Support vector classifier\": svc,\"K neighbours classifier\":knn, \\\n",
    "       \"Decision tree classifier\": dtr, \"Random forest classifier\": rfc}"
   ]
  },
  {
   "cell_type": "code",
   "execution_count": 51,
   "metadata": {},
   "outputs": [
    {
     "data": {
      "text/html": [
       "<div>\n",
       "<style scoped>\n",
       "    .dataframe tbody tr th:only-of-type {\n",
       "        vertical-align: middle;\n",
       "    }\n",
       "\n",
       "    .dataframe tbody tr th {\n",
       "        vertical-align: top;\n",
       "    }\n",
       "\n",
       "    .dataframe thead tr th {\n",
       "        text-align: left;\n",
       "    }\n",
       "</style>\n",
       "<table border=\"1\" class=\"dataframe\">\n",
       "  <thead>\n",
       "    <tr>\n",
       "      <th></th>\n",
       "      <th>training score</th>\n",
       "      <th>ROC AUC</th>\n",
       "    </tr>\n",
       "  </thead>\n",
       "  <tbody>\n",
       "    <tr>\n",
       "      <th>Logistic regression</th>\n",
       "      <td>0.921375</td>\n",
       "      <td>0.713038</td>\n",
       "    </tr>\n",
       "    <tr>\n",
       "      <th>Support vector classifier</th>\n",
       "      <td>0.921625</td>\n",
       "      <td>0.560431</td>\n",
       "    </tr>\n",
       "    <tr>\n",
       "      <th>K neighbours classifier</th>\n",
       "      <td>0.91775</td>\n",
       "      <td>0.626275</td>\n",
       "    </tr>\n",
       "    <tr>\n",
       "      <th>Decision tree classifier</th>\n",
       "      <td>0.857125</td>\n",
       "      <td>0.53269</td>\n",
       "    </tr>\n",
       "    <tr>\n",
       "      <th>Random forest classifier</th>\n",
       "      <td>0.92075</td>\n",
       "      <td>0.671718</td>\n",
       "    </tr>\n",
       "  </tbody>\n",
       "</table>\n",
       "</div>"
      ],
      "text/plain": [
       "                          training score   ROC AUC\n",
       "Logistic regression             0.921375  0.713038\n",
       "Support vector classifier       0.921625  0.560431\n",
       "K neighbours classifier          0.91775  0.626275\n",
       "Decision tree classifier        0.857125   0.53269\n",
       "Random forest classifier         0.92075  0.671718"
      ]
     },
     "execution_count": 51,
     "metadata": {},
     "output_type": "execute_result"
    }
   ],
   "source": [
    "base_model_scores=pd.DataFrame(index=models.keys(),columns=[[\"training score\",\"ROC AUC\"]])\n",
    "for key,model in models.items():\n",
    "    model.fit(X_train_pca,y_train)\n",
    "    train_score=cross_val_score(model,X_train_pca,y_train)\n",
    "    pred=model.predict_proba(X_test_pca)[:,1]\n",
    "    roc=roc_auc_score(y_test,pred)\n",
    "    base_model_scores.loc[key,\"training score\"]=train_score.mean()\n",
    "    base_model_scores.loc[key,\"ROC AUC\"]=roc\n",
    "base_model_scores"
   ]
  },
  {
   "cell_type": "code",
   "execution_count": 52,
   "metadata": {},
   "outputs": [
    {
     "data": {
      "text/plain": [
       "0.682189006750241"
      ]
     },
     "execution_count": 52,
     "metadata": {},
     "output_type": "execute_result"
    }
   ],
   "source": [
    "p1=lr.predict_proba(X_test_pca)[:,1]\n",
    "p2=svc.predict_proba(X_test_pca)[:,1]\n",
    "p3=knn.predict_proba(X_test_pca)[:,1]\n",
    "p4=dtr.predict_proba(X_test_pca)[:,1]\n",
    "p5=rfc.predict_proba(X_test_pca)[:,1]\n",
    "\n",
    "p_ave=(p1+p2+p3+p4+p5)/5\n",
    "roc_auc_score(y_test,p_ave)"
   ]
  },
  {
   "cell_type": "code",
   "execution_count": 53,
   "metadata": {},
   "outputs": [
    {
     "data": {
      "image/png": "[encoded data removed]",
      "text/plain": [
       "<Figure size 1080x360 with 5 Axes>"
      ]
     },
     "metadata": {
      "needs_background": "light"
     },
     "output_type": "display_data"
    }
   ],
   "source": [
    "from sklearn.model_selection import learning_curve\n",
    "x=1\n",
    "plt.figure(figsize=(15,5))\n",
    "for key, model in models.items():\n",
    "    train_sizes, train_scores, test_scores=learning_curve(model,X_train_pca,y_train)\n",
    "    plt.subplot(1,5,x)\n",
    "    plt.plot(train_sizes,train_scores.mean(axis=1),color=\"b\",label=\"train score\")\n",
    "    plt.plot(train_sizes,test_scores.mean(axis=1),color=\"r\",label=\"test score\")\n",
    "    plt.xlabel(\"Train sizes\"),plt.ylabel(\"Score\"),plt.grid(True),plt.legend(loc=\"best\"),plt.ylim((0,1)),plt.title(key)\n",
    "\n",
    "    x=x+1"
   ]
  },
  {
   "cell_type": "code",
   "execution_count": 314,
   "metadata": {},
   "outputs": [
    {
     "data": {
      "text/html": [
       "<div>\n",
       "<style scoped>\n",
       "    .dataframe tbody tr th:only-of-type {\n",
       "        vertical-align: middle;\n",
       "    }\n",
       "\n",
       "    .dataframe tbody tr th {\n",
       "        vertical-align: top;\n",
       "    }\n",
       "\n",
       "    .dataframe thead tr th {\n",
       "        text-align: left;\n",
       "    }\n",
       "</style>\n",
       "<table border=\"1\" class=\"dataframe\">\n",
       "  <thead>\n",
       "    <tr>\n",
       "      <th></th>\n",
       "      <th>training score</th>\n",
       "      <th>ROC AUC</th>\n",
       "    </tr>\n",
       "  </thead>\n",
       "  <tbody>\n",
       "    <tr>\n",
       "      <th>Logistic regression</th>\n",
       "      <td>0.923</td>\n",
       "      <td>0.736912</td>\n",
       "    </tr>\n",
       "    <tr>\n",
       "      <th>Support vector classifier</th>\n",
       "      <td>0.9235</td>\n",
       "      <td>0.639838</td>\n",
       "    </tr>\n",
       "    <tr>\n",
       "      <th>K neighbours classifier</th>\n",
       "      <td>0.91675</td>\n",
       "      <td>0.573262</td>\n",
       "    </tr>\n",
       "    <tr>\n",
       "      <th>Decision tree classifier</th>\n",
       "      <td>0.8575</td>\n",
       "      <td>0.546448</td>\n",
       "    </tr>\n",
       "    <tr>\n",
       "      <th>Random forest classifier</th>\n",
       "      <td>0.923</td>\n",
       "      <td>0.664598</td>\n",
       "    </tr>\n",
       "  </tbody>\n",
       "</table>\n",
       "</div>"
      ],
      "text/plain": [
       "                          training score   ROC AUC\n",
       "Logistic regression                0.923  0.736912\n",
       "Support vector classifier         0.9235  0.639838\n",
       "K neighbours classifier          0.91675  0.573262\n",
       "Decision tree classifier          0.8575  0.546448\n",
       "Random forest classifier           0.923  0.664598"
      ]
     },
     "execution_count": 314,
     "metadata": {},
     "output_type": "execute_result"
    }
   ],
   "source": [
    "base_model_scores"
   ]
  },
  {
   "cell_type": "code",
   "execution_count": null,
   "metadata": {},
   "outputs": [],
   "source": []
  },
  {
   "cell_type": "code",
   "execution_count": 161,
   "metadata": {},
   "outputs": [],
   "source": [
    "def objective(model,hyperparameters,iteration):\n",
    "    cv_results=cross_val_score(model,X_train_pca,y_train).mean()\n",
    "    model.fit(X_train_pca,y_train)\n",
    "    pred=model.predict_proba(X_test_pca)[:,1]\n",
    "    roc=roc_auc_score(y_test,pred)\n",
    "    \n",
    "    return (cv_results,roc,hyperparameters)\n"
   ]
  },
  {
   "cell_type": "code",
   "execution_count": 61,
   "metadata": {},
   "outputs": [],
   "source": [
    "lr_param_grid={\"penalty\": ['l1','l2','elasticnet','none'],\n",
    "           \"C\": [0.001,0.01,0.1,1,10]}\n",
    "rfc_param_grid={\"n_estimators\":[int(x) for x in np.linspace(start = 200, stop = 2000, num = 10)],\n",
    "                \"criterion\": ['gini','entropy'],\n",
    "                \"max_features\":[\"auto\", \"sqrt\", \"log2\"],\n",
    "                \"boostrap\": [True,False]}\n"
   ]
  },
  {
   "cell_type": "code",
   "execution_count": 217,
   "metadata": {},
   "outputs": [],
   "source": [
    "import itertools\n",
    "def grid_search(model,param_grid):\n",
    "    t0=time.time()\n",
    "    results=pd.DataFrame(columns=[\"training score\",\"test ROC AUC\",\"Hyperparameters\"])\n",
    "    keys,values=zip(*param_grid.items())\n",
    "    i=0\n",
    "    for v in itertools.product(*values):\n",
    "        hyperparameters=dict(zip(keys,v))\n",
    "        eval_results=objective(model,hyperparameters,i)\n",
    "        results.loc[i,:]=eval_results\n",
    "        t1=time.time()-t0\n",
    "        print(t1)\n",
    "        t1=t0\n",
    "        i+=1\n",
    "        if i>2:\n",
    "            break\n",
    "    results.sort_values(\"test ROC AUC\",ascending=False,inplace=True)\n",
    "    results.reset_index(inplace=True,drop=True)\n",
    "    return results"
   ]
  },
  {
   "cell_type": "code",
   "execution_count": 241,
   "metadata": {},
   "outputs": [
    {
     "name": "stdout",
     "output_type": "stream",
     "text": [
      "0.06482458114624023\n",
      "0.13364076614379883\n",
      "0.18350768089294434\n"
     ]
    },
    {
     "data": {
      "text/html": [
       "<div>\n",
       "<style scoped>\n",
       "    .dataframe tbody tr th:only-of-type {\n",
       "        vertical-align: middle;\n",
       "    }\n",
       "\n",
       "    .dataframe tbody tr th {\n",
       "        vertical-align: top;\n",
       "    }\n",
       "\n",
       "    .dataframe thead th {\n",
       "        text-align: right;\n",
       "    }\n",
       "</style>\n",
       "<table border=\"1\" class=\"dataframe\">\n",
       "  <thead>\n",
       "    <tr style=\"text-align: right;\">\n",
       "      <th></th>\n",
       "      <th>training score</th>\n",
       "      <th>test ROC AUC</th>\n",
       "      <th>Hyperparameters</th>\n",
       "    </tr>\n",
       "  </thead>\n",
       "  <tbody>\n",
       "    <tr>\n",
       "      <th>0</th>\n",
       "      <td>0.921375</td>\n",
       "      <td>0.713038</td>\n",
       "      <td>{'penalty': 'l1', 'C': 0.001}</td>\n",
       "    </tr>\n",
       "    <tr>\n",
       "      <th>1</th>\n",
       "      <td>0.921375</td>\n",
       "      <td>0.713038</td>\n",
       "      <td>{'penalty': 'l1', 'C': 0.01}</td>\n",
       "    </tr>\n",
       "    <tr>\n",
       "      <th>2</th>\n",
       "      <td>0.921375</td>\n",
       "      <td>0.713038</td>\n",
       "      <td>{'penalty': 'l1', 'C': 0.1}</td>\n",
       "    </tr>\n",
       "  </tbody>\n",
       "</table>\n",
       "</div>"
      ],
      "text/plain": [
       "  training score test ROC AUC                Hyperparameters\n",
       "0       0.921375     0.713038  {'penalty': 'l1', 'C': 0.001}\n",
       "1       0.921375     0.713038   {'penalty': 'l1', 'C': 0.01}\n",
       "2       0.921375     0.713038    {'penalty': 'l1', 'C': 0.1}"
      ]
     },
     "execution_count": 241,
     "metadata": {},
     "output_type": "execute_result"
    }
   ],
   "source": [
    "#Seems like adjusting logistic regression hyperparameters has minimal impact on the results\n",
    "grid_results=grid_search(lr,lr_param_grid)\n",
    "grid_results"
   ]
  },
  {
   "cell_type": "code",
   "execution_count": 216,
   "metadata": {},
   "outputs": [
    {
     "name": "stdout",
     "output_type": "stream",
     "text": [
      "8.511312007904053\n",
      "17.045880794525146\n",
      "25.92547035217285\n",
      "34.80424928665161\n",
      "43.64506673812866\n",
      "52.000192642211914\n"
     ]
    },
    {
     "data": {
      "text/html": [
       "<div>\n",
       "<style scoped>\n",
       "    .dataframe tbody tr th:only-of-type {\n",
       "        vertical-align: middle;\n",
       "    }\n",
       "\n",
       "    .dataframe tbody tr th {\n",
       "        vertical-align: top;\n",
       "    }\n",
       "\n",
       "    .dataframe thead th {\n",
       "        text-align: right;\n",
       "    }\n",
       "</style>\n",
       "<table border=\"1\" class=\"dataframe\">\n",
       "  <thead>\n",
       "    <tr style=\"text-align: right;\">\n",
       "      <th></th>\n",
       "      <th>training score</th>\n",
       "      <th>test ROC AUC</th>\n",
       "      <th>Hyperparameters</th>\n",
       "    </tr>\n",
       "  </thead>\n",
       "  <tbody>\n",
       "    <tr>\n",
       "      <th>0</th>\n",
       "      <td>0.92075</td>\n",
       "      <td>0.689526</td>\n",
       "      <td>{'n_estimators': 200, 'criterion': 'gini', 'ma...</td>\n",
       "    </tr>\n",
       "    <tr>\n",
       "      <th>1</th>\n",
       "      <td>0.921</td>\n",
       "      <td>0.687017</td>\n",
       "      <td>{'n_estimators': 200, 'criterion': 'gini', 'ma...</td>\n",
       "    </tr>\n",
       "    <tr>\n",
       "      <th>2</th>\n",
       "      <td>0.920625</td>\n",
       "      <td>0.686553</td>\n",
       "      <td>{'n_estimators': 200, 'criterion': 'gini', 'ma...</td>\n",
       "    </tr>\n",
       "    <tr>\n",
       "      <th>3</th>\n",
       "      <td>0.920625</td>\n",
       "      <td>0.68465</td>\n",
       "      <td>{'n_estimators': 200, 'criterion': 'gini', 'ma...</td>\n",
       "    </tr>\n",
       "    <tr>\n",
       "      <th>4</th>\n",
       "      <td>0.92175</td>\n",
       "      <td>0.680193</td>\n",
       "      <td>{'n_estimators': 200, 'criterion': 'gini', 'ma...</td>\n",
       "    </tr>\n",
       "    <tr>\n",
       "      <th>5</th>\n",
       "      <td>0.92075</td>\n",
       "      <td>0.674428</td>\n",
       "      <td>{'n_estimators': 200, 'criterion': 'gini', 'ma...</td>\n",
       "    </tr>\n",
       "  </tbody>\n",
       "</table>\n",
       "</div>"
      ],
      "text/plain": [
       "  training score test ROC AUC  \\\n",
       "0        0.92075     0.689526   \n",
       "1          0.921     0.687017   \n",
       "2       0.920625     0.686553   \n",
       "3       0.920625      0.68465   \n",
       "4        0.92175     0.680193   \n",
       "5        0.92075     0.674428   \n",
       "\n",
       "                                     Hyperparameters  \n",
       "0  {'n_estimators': 200, 'criterion': 'gini', 'ma...  \n",
       "1  {'n_estimators': 200, 'criterion': 'gini', 'ma...  \n",
       "2  {'n_estimators': 200, 'criterion': 'gini', 'ma...  \n",
       "3  {'n_estimators': 200, 'criterion': 'gini', 'ma...  \n",
       "4  {'n_estimators': 200, 'criterion': 'gini', 'ma...  \n",
       "5  {'n_estimators': 200, 'criterion': 'gini', 'ma...  "
      ]
     },
     "execution_count": 216,
     "metadata": {},
     "output_type": "execute_result"
    }
   ],
   "source": [
    "grid_search(rfc,rfc_param_grid)"
   ]
  },
  {
   "cell_type": "code",
   "execution_count": 227,
   "metadata": {},
   "outputs": [],
   "source": [
    "import random\n",
    "def random_grid_search(model,param_grid):\n",
    "    t0=time.time()\n",
    "    results=pd.DataFrame(columns=[\"training score\",\"test ROC AUC\",\"Hyperparameters\"])\n",
    "    keys,values=zip(*param_grid.items())\n",
    "    \n",
    "    for i in range(5):\n",
    "        hyperparameters={k:random.sample(v,1)[0] for k,v in param_grid.items()}\n",
    "        eval_results=objective(model,hyperparameters,i)\n",
    "        results.loc[i,:]=eval_results\n",
    "        t1=time.time()-t0\n",
    "        print(t1)\n",
    "        t1=t0\n",
    "    results.sort_values(\"test ROC AUC\",ascending=False,inplace=True)\n",
    "    results.reset_index(inplace=True,drop=True)\n",
    "    return results"
   ]
  },
  {
   "cell_type": "code",
   "execution_count": 240,
   "metadata": {},
   "outputs": [
    {
     "name": "stdout",
     "output_type": "stream",
     "text": [
      "9.436345338821411\n",
      "18.57025122642517\n",
      "27.529715538024902\n",
      "36.35640907287598\n",
      "45.21444082260132\n"
     ]
    },
    {
     "data": {
      "text/html": [
       "<div>\n",
       "<style scoped>\n",
       "    .dataframe tbody tr th:only-of-type {\n",
       "        vertical-align: middle;\n",
       "    }\n",
       "\n",
       "    .dataframe tbody tr th {\n",
       "        vertical-align: top;\n",
       "    }\n",
       "\n",
       "    .dataframe thead th {\n",
       "        text-align: right;\n",
       "    }\n",
       "</style>\n",
       "<table border=\"1\" class=\"dataframe\">\n",
       "  <thead>\n",
       "    <tr style=\"text-align: right;\">\n",
       "      <th></th>\n",
       "      <th>training score</th>\n",
       "      <th>test ROC AUC</th>\n",
       "      <th>Hyperparameters</th>\n",
       "    </tr>\n",
       "  </thead>\n",
       "  <tbody>\n",
       "    <tr>\n",
       "      <th>0</th>\n",
       "      <td>0.9215</td>\n",
       "      <td>0.689426</td>\n",
       "      <td>{'n_estimators': 2000, 'criterion': 'entropy',...</td>\n",
       "    </tr>\n",
       "    <tr>\n",
       "      <th>1</th>\n",
       "      <td>0.920375</td>\n",
       "      <td>0.687589</td>\n",
       "      <td>{'n_estimators': 800, 'criterion': 'gini', 'ma...</td>\n",
       "    </tr>\n",
       "    <tr>\n",
       "      <th>2</th>\n",
       "      <td>0.9205</td>\n",
       "      <td>0.683312</td>\n",
       "      <td>{'n_estimators': 600, 'criterion': 'gini', 'ma...</td>\n",
       "    </tr>\n",
       "    <tr>\n",
       "      <th>3</th>\n",
       "      <td>0.92075</td>\n",
       "      <td>0.680755</td>\n",
       "      <td>{'n_estimators': 1000, 'criterion': 'gini', 'm...</td>\n",
       "    </tr>\n",
       "    <tr>\n",
       "      <th>4</th>\n",
       "      <td>0.921</td>\n",
       "      <td>0.671339</td>\n",
       "      <td>{'n_estimators': 200, 'criterion': 'entropy', ...</td>\n",
       "    </tr>\n",
       "  </tbody>\n",
       "</table>\n",
       "</div>"
      ],
      "text/plain": [
       "  training score test ROC AUC  \\\n",
       "0         0.9215     0.689426   \n",
       "1       0.920375     0.687589   \n",
       "2         0.9205     0.683312   \n",
       "3        0.92075     0.680755   \n",
       "4          0.921     0.671339   \n",
       "\n",
       "                                     Hyperparameters  \n",
       "0  {'n_estimators': 2000, 'criterion': 'entropy',...  \n",
       "1  {'n_estimators': 800, 'criterion': 'gini', 'ma...  \n",
       "2  {'n_estimators': 600, 'criterion': 'gini', 'ma...  \n",
       "3  {'n_estimators': 1000, 'criterion': 'gini', 'm...  \n",
       "4  {'n_estimators': 200, 'criterion': 'entropy', ...  "
      ]
     },
     "execution_count": 240,
     "metadata": {},
     "output_type": "execute_result"
    }
   ],
   "source": [
    "random_grid_search(rfc,rfc_param_grid)"
   ]
  },
  {
   "cell_type": "code",
   "execution_count": 230,
   "metadata": {},
   "outputs": [
    {
     "name": "stdout",
     "output_type": "stream",
     "text": [
      "8.91926908493042\n",
      "17.566015243530273\n",
      "26.588122606277466\n",
      "35.36103796958923\n",
      "44.801660776138306\n"
     ]
    },
    {
     "data": {
      "text/plain": [
       "0    {'n_estimators': 1400, 'criterion': 'gini', 'm...\n",
       "1    {'n_estimators': 200, 'criterion': 'gini', 'ma...\n",
       "2    {'n_estimators': 1400, 'criterion': 'entropy',...\n",
       "3    {'n_estimators': 1400, 'criterion': 'gini', 'm...\n",
       "4    {'n_estimators': 200, 'criterion': 'gini', 'ma...\n",
       "Name: Hyperparameters, dtype: object"
      ]
     },
     "execution_count": 230,
     "metadata": {},
     "output_type": "execute_result"
    }
   ],
   "source": [
    "grid_results=random_grid_search(rfc,rfc_param_grid)\n",
    "grid_results[\"Hyperparameters\"]"
   ]
  },
  {
   "cell_type": "code",
   "execution_count": 239,
   "metadata": {},
   "outputs": [
    {
     "name": "stdout",
     "output_type": "stream",
     "text": [
      "{'n_estimators': 1400, 'criterion': 'gini', 'max_features': 'log2', 'boostrap': True} 0.690221793635487\n",
      "{'n_estimators': 200, 'criterion': 'gini', 'max_features': 'auto', 'boostrap': True} 0.6877611700417873\n",
      "{'n_estimators': 1400, 'criterion': 'entropy', 'max_features': 'auto', 'boostrap': False} 0.6855239472838316\n",
      "{'n_estimators': 1400, 'criterion': 'gini', 'max_features': 'auto', 'boostrap': True} 0.6837929926068786\n",
      "{'n_estimators': 200, 'criterion': 'gini', 'max_features': 'sqrt', 'boostrap': False} 0.6815380906460944\n"
     ]
    }
   ],
   "source": [
    "for x,y in zip(grid_results[\"Hyperparameters\"],grid_results[\"test ROC AUC\"]):\n",
    "    print(x,y)"
   ]
  },
  {
   "cell_type": "code",
   "execution_count": null,
   "metadata": {},
   "outputs": [],
   "source": []
  }
 ],
 "metadata": {
  "kernelspec": {
   "display_name": "Python 3",
   "language": "python",
   "name": "python3"
  },
  "language_info": {
   "codemirror_mode": {
    "name": "ipython",
    "version": 3
   },
   "file_extension": ".py",
   "mimetype": "text/x-python",
   "name": "python",
   "nbconvert_exporter": "python",
   "pygments_lexer": "ipython3",
   "version": "3.7.7"
  }
 },
 "nbformat": 4,
 "nbformat_minor": 4
}
